{
 "cells": [
  {
   "cell_type": "code",
   "execution_count": 10,
   "id": "4b1f3118",
   "metadata": {},
   "outputs": [],
   "source": [
    "import pandas as pd\n",
    "import numpy as np\n",
    "import matplotlib as plt"
   ]
  },
  {
   "cell_type": "code",
   "execution_count": 11,
   "id": "9b80d406",
   "metadata": {},
   "outputs": [],
   "source": [
    "veri=pd.read_csv(\"veriler.csv\")"
   ]
  },
  {
   "cell_type": "code",
   "execution_count": 15,
   "id": "ee02bdea",
   "metadata": {},
   "outputs": [],
   "source": [
    "#eksik verilerin doldurulması\n",
    "#Simple İmputer eksik verilerin doldurulması için kullanılır\n",
    "#Eksik verileri doldurma metodu olarak ortalama mod medyan gibi fonksiyonlar kullanır\n",
    "from sklearn.impute import SimpleImputer\n",
    "imputer=SimpleImputer(missing_values=np.nan, strategy='mean')"
   ]
  },
  {
   "cell_type": "code",
   "execution_count": 19,
   "id": "c68d015a",
   "metadata": {},
   "outputs": [
    {
     "data": {
      "text/plain": [
       "array([[10.],\n",
       "       [11.],\n",
       "       [10.],\n",
       "       [ 9.],\n",
       "       [12.],\n",
       "       [30.],\n",
       "       [25.],\n",
       "       [35.],\n",
       "       [22.],\n",
       "       [33.],\n",
       "       [27.],\n",
       "       [44.],\n",
       "       [39.],\n",
       "       [41.],\n",
       "       [55.],\n",
       "       [47.],\n",
       "       [23.],\n",
       "       [27.],\n",
       "       [nan],\n",
       "       [29.],\n",
       "       [32.],\n",
       "       [42.]])"
      ]
     },
     "execution_count": 19,
     "metadata": {},
     "output_type": "execute_result"
    }
   ],
   "source": [
    "#çalışabilmesi için reshape kullanarak diziyi yeniden boyutlandırdık\n",
    "yas=veri[\"yas\"].values\n",
    "yas = yas.reshape(-1,1)\n",
    "yas"
   ]
  },
  {
   "cell_type": "code",
   "execution_count": 17,
   "id": "7b66876c",
   "metadata": {},
   "outputs": [],
   "source": [
    "#fit_transform kullanarak eksik verileri doldurduk\n",
    "#fit uyum sağla demektir verileri okuyup içerisindeki verilere uyum sağlar\n",
    "#transform ise dönüştür demektir \n",
    "yas=imputer.fit_transform(yas)"
   ]
  },
  {
   "cell_type": "code",
   "execution_count": 9,
   "id": "40d333b3",
   "metadata": {},
   "outputs": [],
   "source": [
    "from sklearn import preprocessing"
   ]
  },
  {
   "cell_type": "code",
   "execution_count": 21,
   "id": "6e9ed911",
   "metadata": {},
   "outputs": [
    {
     "data": {
      "text/plain": [
       "array([1, 1, 1, 1, 1, 1, 1, 1, 1, 2, 2, 2, 2, 2, 2, 0, 0, 0, 0, 0, 0, 0])"
      ]
     },
     "execution_count": 21,
     "metadata": {},
     "output_type": "execute_result"
    }
   ],
   "source": [
    "#Label Encoder verilerin içindeki sayısal olmayan verileri sayısal verilere dönüştürür\n",
    "#örenğin 'tr' 'us' 'fr' verilerini 0 1 2 olarak dönüştürür\n",
    "le=preprocessing.LabelEncoder()\n",
    "ulke_le=veri['ulke']\n",
    "ulke_le=le.fit_transform(ulke_le)\n",
    "ulke_le"
   ]
  },
  {
   "cell_type": "code",
   "execution_count": 30,
   "id": "2b5b0604",
   "metadata": {},
   "outputs": [],
   "source": [
    "#One Hot Encoder ise 0 1 2 yerine her sayısal olamayan değeri bir kategori olarak alıp bu kategorileri sütun başlığı yapar ve 0 1 ile doldurur\n",
    "ohe=preprocessing.OneHotEncoder()\n",
    "ulke_ohe=veri['ulke']\n",
    "ulke_ohe = ulke_ohe.to_numpy().reshape(-1, 1)\n",
    "ulke_ohe=ohe.fit_transform(ulke_ohe).toarray()\n",
    "ulke_ohe=pd.DataFrame(data=ulke_ohe, index=range(22), columns=['fr','tr','us'])"
   ]
  },
  {
   "cell_type": "code",
   "execution_count": 47,
   "id": "de7b0ef1",
   "metadata": {},
   "outputs": [],
   "source": [
    "#cinsiyet sütununu da uygun şekilde işleyelim\n",
    "#bu sütunda sadece 2 tane sayısal olamaya kategori değeri bulunduğu için label encoder kullanabiliriz\n",
    "#Erkek = 0, Kadın = 1\n",
    "cinsiyet = le.fit_transform(veri['cinsiyet'])\n",
    "cinsiyet = pd.DataFrame(data=cinsiyet, columns=['cinsiyet'])\n",
    "\n",
    "bky=veri[['boy','kilo','yas']]\n",
    "bky = pd.DataFrame(data = bky, columns=['boy','kilo','yas'])"
   ]
  },
  {
   "cell_type": "code",
   "execution_count": 48,
   "id": "1bdd28b4",
   "metadata": {},
   "outputs": [],
   "source": [
    "#Verileri toparlayalım\n",
    "veri=pd.concat([bky,ulke_ohe,cinsiyet],axis=1)\n",
    "#veriler artık düzenli ve model eğitiminde kullanılmaya hazır"
   ]
  },
  {
   "cell_type": "code",
   "execution_count": 52,
   "id": "6d98eb24",
   "metadata": {},
   "outputs": [],
   "source": [
    "#modelleri eğitirken eğitim ve test olmak üzere 2'ye ayırırız\n",
    "#ayrıca bağımlı ve bağımsız değişkenleri de önceden belirleyip bunları da ayırırız\n",
    "from sklearn.model_selection import train_test_split\n",
    "y=veri['cinsiyet']\n",
    "x=veri.drop(['cinsiyet'],axis=1)\n",
    "x_train, x_test, y_train, y_test = train_test_split(x, y, test_size=0.33, random_state = 18)"
   ]
  },
  {
   "cell_type": "code",
   "execution_count": 65,
   "id": "96831db3",
   "metadata": {},
   "outputs": [],
   "source": [
    "#ölçekleme\n",
    "from sklearn.preprocessing import StandardScaler\n",
    "sc=StandardScaler()\n",
    "X_train = sc.fit_transform(x_train)\n",
    "X_test=sc.fit_transform(x_test)"
   ]
  },
  {
   "cell_type": "code",
   "execution_count": 60,
   "id": "73ab8db4",
   "metadata": {},
   "outputs": [],
   "source": [
    "#şuanda verilerimizi basit bir önişlemeden geçirdik. Artık verilerimiz eğitime hazır..."
   ]
  },
  {
   "cell_type": "code",
   "execution_count": null,
   "id": "8797d2b5",
   "metadata": {},
   "outputs": [],
   "source": []
  },
  {
   "cell_type": "code",
   "execution_count": null,
   "id": "449d0667",
   "metadata": {},
   "outputs": [],
   "source": []
  }
 ],
 "metadata": {
  "kernelspec": {
   "display_name": "Python 3 (ipykernel)",
   "language": "python",
   "name": "python3"
  },
  "language_info": {
   "codemirror_mode": {
    "name": "ipython",
    "version": 3
   },
   "file_extension": ".py",
   "mimetype": "text/x-python",
   "name": "python",
   "nbconvert_exporter": "python",
   "pygments_lexer": "ipython3",
   "version": "3.11.2"
  }
 },
 "nbformat": 4,
 "nbformat_minor": 5
}
