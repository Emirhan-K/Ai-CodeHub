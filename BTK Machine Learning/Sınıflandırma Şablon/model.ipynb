{
 "cells": [
  {
   "cell_type": "code",
   "execution_count": 1,
   "id": "23e3eba2",
   "metadata": {},
   "outputs": [],
   "source": [
    "import pandas as pd\n",
    "import numpy as np\n",
    "import matplotlib.pyplot as plt"
   ]
  },
  {
   "cell_type": "code",
   "execution_count": 2,
   "id": "377e5ec1",
   "metadata": {},
   "outputs": [],
   "source": [
    "veri= pd.read_csv('veriler.csv')\n",
    "veri=veri.drop(['ulke'],axis=1)"
   ]
  },
  {
   "cell_type": "code",
   "execution_count": 12,
   "id": "0f9e48d7",
   "metadata": {},
   "outputs": [],
   "source": [
    "from sklearn.model_selection import train_test_split\n",
    "y=veri['cinsiyet']\n",
    "x=veri.drop(['cinsiyet'],axis=1)\n",
    "x_train, x_test, y_train, y_test = train_test_split(x, y, test_size=0.2, random_state = 18)"
   ]
  },
  {
   "cell_type": "code",
   "execution_count": 13,
   "id": "fb322ce7",
   "metadata": {},
   "outputs": [],
   "source": [
    "from sklearn.preprocessing import StandardScaler\n",
    "sc=StandardScaler()\n",
    "x_train = sc.fit_transform(x_train)\n",
    "x_test=sc.transform(x_test)"
   ]
  },
  {
   "cell_type": "code",
   "execution_count": 21,
   "id": "d7e42d0a",
   "metadata": {},
   "outputs": [
    {
     "data": {
      "text/plain": [
       "array([[1, 2],\n",
       "       [0, 2]], dtype=int64)"
      ]
     },
     "execution_count": 21,
     "metadata": {},
     "output_type": "execute_result"
    }
   ],
   "source": [
    "#Logistic regresyon ile sınıflandırma\n",
    "\n",
    "#Denkleme bağlı bir eğri çiziyor eğirinin üztünde kalanları bir sınıf altında kalanları bir sınıf yapıyor\n",
    "\n",
    "from sklearn.linear_model import LogisticRegression\n",
    "\n",
    "lr=LogisticRegression()\n",
    "model_lr=lr.fit(x_train,y_train)\n",
    "\n",
    "ypred=model_lr.predict(x_test)\n",
    "\n",
    "confusion_matrix(y_test,ypred)\n",
    "#print(ypred)\n",
    "#print(y_test)"
   ]
  },
  {
   "cell_type": "code",
   "execution_count": 22,
   "id": "eb3c3fcc",
   "metadata": {},
   "outputs": [
    {
     "data": {
      "text/plain": [
       "array([[1, 2],\n",
       "       [0, 2]], dtype=int64)"
      ]
     },
     "execution_count": 22,
     "metadata": {},
     "output_type": "execute_result"
    }
   ],
   "source": [
    "#Confisuon matrix\n",
    "from sklearn.metrics import confusion_matrix\n",
    "confusion_matrix(y_test,ypred)"
   ]
  },
  {
   "cell_type": "code",
   "execution_count": 23,
   "id": "da31bca7",
   "metadata": {},
   "outputs": [
    {
     "data": {
      "text/plain": [
       "array([[2, 1],\n",
       "       [0, 2]], dtype=int64)"
      ]
     },
     "execution_count": 23,
     "metadata": {},
     "output_type": "execute_result"
    }
   ],
   "source": [
    "#KNN \n",
    "\n",
    "#Veri kümesi uzayına yeni eklenen veriye en yakın n komuşusuna bakarak karar veren bir algoritmadır.\n",
    "\n",
    "from sklearn.neighbors import KNeighborsClassifier\n",
    "\n",
    "knn=KNeighborsClassifier(n_neighbors=4, metric='minkowski')\n",
    "model_knn= knn.fit(x_train,y_train)\n",
    "\n",
    "ypred=model_knn.predict(x_test)\n",
    "\n",
    "confusion_matrix(y_test,ypred)"
   ]
  },
  {
   "cell_type": "code",
   "execution_count": 24,
   "id": "df1ec8a5",
   "metadata": {},
   "outputs": [
    {
     "data": {
      "text/plain": [
       "array([[1, 2],\n",
       "       [0, 2]], dtype=int64)"
      ]
     },
     "execution_count": 24,
     "metadata": {},
     "output_type": "execute_result"
    }
   ],
   "source": [
    "#SVC\n",
    "\n",
    "#Destek Vektör Sınıflandırıcısı veri kümesine bir fonksiyon doğrusu veya eğrisi çizer. Çizerken margin aralığını en yüksek tutar.\n",
    "\n",
    "from sklearn.svm import SVC\n",
    "\n",
    "svc=SVC(kernel='rbf')\n",
    "model_svc= svc.fit(x_train,y_train)\n",
    "\n",
    "ypred=svc.predict(x_test)\n",
    "\n",
    "confusion_matrix(y_test,ypred)"
   ]
  },
  {
   "cell_type": "code",
   "execution_count": 25,
   "id": "d4f88b06",
   "metadata": {},
   "outputs": [
    {
     "data": {
      "text/plain": [
       "array([[1, 2],\n",
       "       [0, 2]], dtype=int64)"
      ]
     },
     "execution_count": 25,
     "metadata": {},
     "output_type": "execute_result"
    }
   ],
   "source": [
    "#Navie Bayes\n",
    "\n",
    "#Olasılık ile çalışan bir uygulamadır. Dağılım ile ilgili çeşitli varyasyonları vardır.\n",
    "\n",
    "from sklearn.naive_bayes import GaussianNB\n",
    "\n",
    "nb=GaussianNB()\n",
    "model_nb=nb.fit(x_train,y_train)\n",
    "\n",
    "ypred=model_nb.predict(x_test)\n",
    "\n",
    "confusion_matrix(y_test,ypred)"
   ]
  },
  {
   "cell_type": "code",
   "execution_count": 26,
   "id": "96ad2844",
   "metadata": {},
   "outputs": [
    {
     "data": {
      "text/plain": [
       "array([[3, 0],\n",
       "       [0, 2]], dtype=int64)"
      ]
     },
     "execution_count": 26,
     "metadata": {},
     "output_type": "execute_result"
    }
   ],
   "source": [
    "#Decision Tree\n",
    "\n",
    "#Karar ağaçları belirli bir kritere göre bir ağaaç oluşturur. Ağacın durumuna göre karar verilir.\n",
    "\n",
    "from sklearn.tree import DecisionTreeClassifier\n",
    "\n",
    "dt=DecisionTreeClassifier(criterion='entropy')\n",
    "model_dt=dt.fit(x_train,y_train)\n",
    "\n",
    "ypred=dt.predict(x_test)\n",
    "\n",
    "confusion_matrix(y_test,ypred)\n"
   ]
  },
  {
   "cell_type": "code",
   "execution_count": 29,
   "id": "da20217f",
   "metadata": {},
   "outputs": [
    {
     "data": {
      "text/plain": [
       "array([[2, 1],\n",
       "       [0, 2]], dtype=int64)"
      ]
     },
     "execution_count": 29,
     "metadata": {},
     "output_type": "execute_result"
    }
   ],
   "source": [
    "#Random Forest\n",
    "\n",
    "#Veriyi n parçaya bölüp n tane karar ağacı oluşturur. Her karar ağacı bir oy kullanır ve çoğunluğu alan kazanır.\n",
    "\n",
    "from sklearn.ensemble import RandomForestClassifier\n",
    "\n",
    "rf=RandomForestClassifier(n_estimators=10, criterion='entropy')\n",
    "model_rf=rf.fit(x_train,y_train)\n",
    "\n",
    "ypred=model_rf.predict(x_test)\n",
    "\n",
    "confusion_matrix(y_test,ypred)"
   ]
  },
  {
   "cell_type": "code",
   "execution_count": null,
   "id": "14aab158",
   "metadata": {},
   "outputs": [],
   "source": []
  },
  {
   "cell_type": "code",
   "execution_count": null,
   "id": "de19601a",
   "metadata": {},
   "outputs": [],
   "source": []
  }
 ],
 "metadata": {
  "kernelspec": {
   "display_name": "Python 3 (ipykernel)",
   "language": "python",
   "name": "python3"
  },
  "language_info": {
   "codemirror_mode": {
    "name": "ipython",
    "version": 3
   },
   "file_extension": ".py",
   "mimetype": "text/x-python",
   "name": "python",
   "nbconvert_exporter": "python",
   "pygments_lexer": "ipython3",
   "version": "3.11.2"
  }
 },
 "nbformat": 4,
 "nbformat_minor": 5
}
