{
 "cells": [
  {
   "cell_type": "code",
   "execution_count": 1,
   "id": "eaa11558",
   "metadata": {},
   "outputs": [],
   "source": [
    "#Birliktelik kuralı\n",
    "\n",
    "#Temelde bunu alanlar bunu da aldı tarzı işlemlerde kullanılır"
   ]
  },
  {
   "cell_type": "code",
   "execution_count": 2,
   "id": "0d8eb9eb",
   "metadata": {},
   "outputs": [],
   "source": [
    "import pandas as pd\n",
    "import numpy as np\n",
    "import matplotlib.pyplot as plt"
   ]
  },
  {
   "cell_type": "code",
   "execution_count": 3,
   "id": "afda01b3",
   "metadata": {},
   "outputs": [],
   "source": [
    "veri=pd.read_csv('sepet.csv',header=None)"
   ]
  },
  {
   "cell_type": "code",
   "execution_count": 19,
   "id": "c60531d7",
   "metadata": {},
   "outputs": [
    {
     "name": "stdout",
     "output_type": "stream",
     "text": [
      "[RelationRecord(items=frozenset({'ground beef', 'herb & pepper'}), support=0.015997866951073192, ordered_statistics=[OrderedStatistic(items_base=frozenset({'herb & pepper'}), items_add=frozenset({'ground beef'}), confidence=0.3234501347708895, lift=3.2919938411349285)])]\n"
     ]
    }
   ],
   "source": [
    "#kütüphane verileri listOfList şeklinde istediği için verileri dönüştürüyoruz\n",
    "liste=[]\n",
    "for i in range(0,7501):\n",
    "    liste.append([str(veri.values[i,j]) for j in range(0,20)])\n",
    "#yukardaki for döngüsünde veri sütunu kadar dönüyor ve her bir satırdaki 20 öğeyi liste ve string şeklinde bir listeye atıyor\n",
    "#20 öğeyi attığı için 'nan' içeren listeler de bulunabiliyor aşağıdaki kod ise 'nan' öğeleri kaldırıyor\n",
    "liste = [[val for val in sub_list if val != 'nan'] for sub_list in liste]\n",
    "\n",
    "#apriori kütüphanesini githubdan bulduk\n",
    "from apyori import apriori\n",
    "kampanya=apriori(liste,min_support=0.01, min_confidence=0.2, min_lift=3,min_lenght=2)\n",
    "\n",
    "print(list(kampanya))\n",
    "#Çıktıda 'ground beef' alanların 'herb & pepper' alma olasılığının 3.2 kat arttığını görüyoruz"
   ]
  },
  {
   "cell_type": "code",
   "execution_count": null,
   "id": "9d74d2d1",
   "metadata": {},
   "outputs": [],
   "source": []
  }
 ],
 "metadata": {
  "kernelspec": {
   "display_name": "Python 3 (ipykernel)",
   "language": "python",
   "name": "python3"
  },
  "language_info": {
   "codemirror_mode": {
    "name": "ipython",
    "version": 3
   },
   "file_extension": ".py",
   "mimetype": "text/x-python",
   "name": "python",
   "nbconvert_exporter": "python",
   "pygments_lexer": "ipython3",
   "version": "3.11.2"
  }
 },
 "nbformat": 4,
 "nbformat_minor": 5
}
