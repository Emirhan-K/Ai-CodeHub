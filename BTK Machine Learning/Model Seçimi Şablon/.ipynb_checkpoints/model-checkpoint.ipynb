{
 "cells": [
  {
   "cell_type": "code",
   "execution_count": 6,
   "id": "04a57366",
   "metadata": {},
   "outputs": [],
   "source": [
    "#Cross validation\n",
    "#Biz verilerimizi eğitim ve test verisi olarak bölerken random bir şekilde bölüyorduk.\n",
    "#Bu şekilde bölmek modelin kalitesini olumsuz olarak etkileyebiliyor. Kullanacağımız yöntem şu şekilde:\n",
    "#3 verimiz var ve test_size=0.33, 1. veri test 2 ve 3. veri eğitim, daha sonra 2. veri test 1 ve 3. veri eğitim, ve son olarak\n",
    "#3. veri test 1 ve 2. veri eğitim olarak tüm verileri eğitim ve test için kullanmış oluyoruz.\n",
    "\n",
    "import pandas as pd\n",
    "import numpy as np\n",
    "import matplotlib.pyplot as plt"
   ]
  },
  {
   "cell_type": "code",
   "execution_count": 7,
   "id": "7ff196ec",
   "metadata": {},
   "outputs": [],
   "source": [
    "veri= pd.read_csv('veriler.csv')\n",
    "veri=veri.drop(['ulke'],axis=1)"
   ]
  },
  {
   "cell_type": "code",
   "execution_count": 8,
   "id": "85156b37",
   "metadata": {},
   "outputs": [],
   "source": [
    "from sklearn.model_selection import train_test_split\n",
    "y=veri['cinsiyet']\n",
    "x=veri.drop(['cinsiyet'],axis=1)\n",
    "x_train, x_test, y_train, y_test = train_test_split(x, y, test_size=0.2, random_state = 18)"
   ]
  },
  {
   "cell_type": "code",
   "execution_count": 9,
   "id": "a7c4ac4f",
   "metadata": {},
   "outputs": [],
   "source": [
    "from sklearn.preprocessing import StandardScaler\n",
    "sc=StandardScaler()\n",
    "x_train = sc.fit_transform(x_train)\n",
    "x_test=sc.transform(x_test)"
   ]
  },
  {
   "cell_type": "code",
   "execution_count": 10,
   "id": "9ad5a369",
   "metadata": {},
   "outputs": [],
   "source": [
    "from sklearn.svm import SVC\n",
    "\n",
    "svc=SVC(kernel='rbf')"
   ]
  },
  {
   "cell_type": "code",
   "execution_count": 24,
   "id": "b7e6acc5",
   "metadata": {},
   "outputs": [
    {
     "name": "stdout",
     "output_type": "stream",
     "text": [
      "Standart Sapma:  0.13608276348795434\n",
      "Ortalama Model Başarısı:  0.8333333333333334\n"
     ]
    }
   ],
   "source": [
    "from sklearn.model_selection import cross_val_score\n",
    "'''\n",
    "estimator=Kullanılacak algortima,\n",
    "cv=kaç katlamalı olacak\n",
    "X=x_train\n",
    "y=y_train\n",
    "'''\n",
    "\n",
    "basari=cross_val_score(estimator=svc, X=x_train,y=y_train,cv=3)\n",
    "\n",
    "print('Standart Sapma: ',basari.std())\n",
    "print('Ortalama Model Başarısı: ', basari.mean())\n"
   ]
  },
  {
   "cell_type": "code",
   "execution_count": 25,
   "id": "237961da",
   "metadata": {},
   "outputs": [],
   "source": [
    "#GridSearch ile uygun parametreleri deneyerek bulur\n",
    "'''\n",
    "GSCV parametreleri\n",
    "estimator : sınıflandırma algoritması (neyi optimize etmek istediğimiz)\n",
    "param_grid : parametreler/ denenecekler\n",
    "scoring: neye göre skorlanacak : örn : accuracy\n",
    "cv : kaç katlamalı olacağı\n",
    "n_jobs : aynı anda çalışacak iş\n",
    "'''\n",
    "#Önce deneyeceğimizi liste içinde sözlük olarak vermeliyiz.\n",
    "\n",
    "parametreler=[{'C':[1,2,3,4,5],'kernel':['linear']},#önce'C':[1,2,3,4,5] değerleri ile'kernel=linear' deneyecek\n",
    "     {'C':[1,2,3,4,5] ,'kernel':['rbf'],#sonra bunu {'C':[1,2,3,4,5] ,'kernel':['rbf'],'gamma':[1,0.5,0.1,0.01,0.001]} kendi arasında deneyecek.\n",
    "      'gamma':[1,0.5,0.1,0.01,0.001]} ]\n",
    "\n"
   ]
  },
  {
   "cell_type": "code",
   "execution_count": 29,
   "id": "804e286d",
   "metadata": {},
   "outputs": [],
   "source": [
    "from sklearn.model_selection import GridSearchCV\n",
    "\n",
    "gs = GridSearchCV(estimator= svc, #SVM algoritması\n",
    "                  param_grid = parametreler,\n",
    "                  scoring =  'accuracy',\n",
    "                  cv = 3,\n",
    "                  n_jobs = -1)\n",
    "grid_search = gs.fit(x_train,y_train)"
   ]
  },
  {
   "cell_type": "code",
   "execution_count": 30,
   "id": "72f6a648",
   "metadata": {},
   "outputs": [
    {
     "name": "stdout",
     "output_type": "stream",
     "text": [
      "0.8777777777777779\n",
      "{'C': 3, 'gamma': 1, 'kernel': 'rbf'}\n"
     ]
    }
   ],
   "source": [
    "eniyisonuc = grid_search.best_score_\n",
    "eniyiparametreler = grid_search.best_params_\n",
    "\n",
    "print(eniyisonuc)\n",
    "print(eniyiparametreler)"
   ]
  },
  {
   "cell_type": "code",
   "execution_count": null,
   "id": "f20765d1",
   "metadata": {},
   "outputs": [],
   "source": []
  }
 ],
 "metadata": {
  "kernelspec": {
   "display_name": "Python 3 (ipykernel)",
   "language": "python",
   "name": "python3"
  },
  "language_info": {
   "codemirror_mode": {
    "name": "ipython",
    "version": 3
   },
   "file_extension": ".py",
   "mimetype": "text/x-python",
   "name": "python",
   "nbconvert_exporter": "python",
   "pygments_lexer": "ipython3",
   "version": "3.11.2"
  }
 },
 "nbformat": 4,
 "nbformat_minor": 5
}
