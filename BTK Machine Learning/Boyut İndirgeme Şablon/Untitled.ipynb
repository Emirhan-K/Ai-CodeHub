{
 "cells": [
  {
   "cell_type": "code",
   "execution_count": 15,
   "id": "bd99da26",
   "metadata": {},
   "outputs": [],
   "source": [
    "import pandas as pd\n",
    "import numpy as np\n",
    "import matplotlib.pyplot as plt"
   ]
  },
  {
   "cell_type": "code",
   "execution_count": 16,
   "id": "55ae461a",
   "metadata": {},
   "outputs": [],
   "source": [
    "veri=pd.read_csv('wine.csv')\n",
    "y=veri['Customer_Segment']\n",
    "x=veri.drop(['Customer_Segment'],axis=1)"
   ]
  },
  {
   "cell_type": "code",
   "execution_count": 17,
   "id": "5d418c00",
   "metadata": {},
   "outputs": [],
   "source": [
    "from sklearn.model_selection import train_test_split\n",
    "\n",
    "x_train, x_test, y_train, y_test=train_test_split(x,y,test_size=0.2,random_state=18)\n",
    "\n",
    "from sklearn.preprocessing import StandardScaler\n",
    "\n",
    "sc=StandardScaler()\n",
    "\n",
    "x_train=sc.fit_transform(x_train)\n",
    "x_test=sc.transform(x_test)"
   ]
  },
  {
   "cell_type": "code",
   "execution_count": 18,
   "id": "b0d281b4",
   "metadata": {},
   "outputs": [],
   "source": [
    "#PCA\n",
    "#Verinin boyutlarını bir algoritmaya göre düşürür ancak veri kaybı olabilir.\n",
    "\n",
    "from sklearn.decomposition import PCA\n",
    "\n",
    "pca=PCA(n_components=2)\n",
    "\n",
    "x_train_pca=pca.fit_transform(x_train)\n",
    "x_test_pca=pca.transform(x_test)\n"
   ]
  },
  {
   "cell_type": "code",
   "execution_count": 19,
   "id": "695b18f2",
   "metadata": {},
   "outputs": [],
   "source": [
    "#PCA dan önce LR\n",
    "from sklearn.linear_model import LogisticRegression\n",
    "\n",
    "lr=LogisticRegression(random_state=18)\n",
    "\n",
    "model_lr=lr.fit(x_train,y_train)\n",
    "\n",
    "pred=model_lr.predict(x_test)"
   ]
  },
  {
   "cell_type": "code",
   "execution_count": 20,
   "id": "22378730",
   "metadata": {},
   "outputs": [],
   "source": [
    "#PCA dan sonra LR\n",
    "from sklearn.linear_model import LogisticRegression\n",
    "\n",
    "lr_pca=LogisticRegression(random_state=18)\n",
    "\n",
    "model_lr_pca=lr_pca.fit(x_train_pca,y_train)\n",
    "\n",
    "pred_pca=model_lr_pca.predict(x_test_pca)"
   ]
  },
  {
   "cell_type": "code",
   "execution_count": 21,
   "id": "dd8b0642",
   "metadata": {},
   "outputs": [
    {
     "name": "stdout",
     "output_type": "stream",
     "text": [
      "Gerçek değer ve PCA olmadan tahmin\n"
     ]
    },
    {
     "data": {
      "text/plain": [
       "array([[16,  1,  0],\n",
       "       [ 0, 14,  0],\n",
       "       [ 0,  0,  5]], dtype=int64)"
      ]
     },
     "execution_count": 21,
     "metadata": {},
     "output_type": "execute_result"
    }
   ],
   "source": [
    "from sklearn.metrics import confusion_matrix\n",
    "print('Gerçek değer ve PCA olmadan tahmin')\n",
    "cm=confusion_matrix(y_test,pred)\n",
    "cm"
   ]
  },
  {
   "cell_type": "code",
   "execution_count": 22,
   "id": "55788c37",
   "metadata": {},
   "outputs": [
    {
     "name": "stdout",
     "output_type": "stream",
     "text": [
      "Gerçek değer ve PCA tahmin\n"
     ]
    },
    {
     "data": {
      "text/plain": [
       "array([[17,  0,  0],\n",
       "       [ 0, 14,  0],\n",
       "       [ 0,  0,  5]], dtype=int64)"
      ]
     },
     "execution_count": 22,
     "metadata": {},
     "output_type": "execute_result"
    }
   ],
   "source": [
    "\n",
    "print('Gerçek değer ve PCA tahmin')\n",
    "cm_pca=confusion_matrix(y_test,pred_pca)\n",
    "cm_pca"
   ]
  },
  {
   "cell_type": "code",
   "execution_count": 23,
   "id": "c4051dca",
   "metadata": {},
   "outputs": [
    {
     "name": "stdout",
     "output_type": "stream",
     "text": [
      "PCA olmadan ve PCA tahmin\n"
     ]
    },
    {
     "data": {
      "text/plain": [
       "array([[16,  0,  0],\n",
       "       [ 1, 14,  0],\n",
       "       [ 0,  0,  5]], dtype=int64)"
      ]
     },
     "execution_count": 23,
     "metadata": {},
     "output_type": "execute_result"
    }
   ],
   "source": [
    "print('PCA olmadan ve PCA tahmin')\n",
    "cm=confusion_matrix(pred,pred_pca)\n",
    "cm"
   ]
  },
  {
   "cell_type": "code",
   "execution_count": 24,
   "id": "86c20045",
   "metadata": {},
   "outputs": [],
   "source": [
    "#LDA\n",
    "from sklearn.discriminant_analysis import LinearDiscriminantAnalysis as LDA\n",
    "\n",
    "lda=LDA(n_components=2)\n",
    "x_train_lda=lda.fit_transform(x_train,y_train)\n",
    "x_test_lda=lda.transform(x_test)\n",
    "\n",
    "lr_lda=LogisticRegression(random_state=18)\n",
    "model_lr_lda=lr_lda.fit(x_train_lda,y_train)\n",
    "\n",
    "pred_lda=model_lr_lda.predict(x_test_lda)\n"
   ]
  },
  {
   "cell_type": "code",
   "execution_count": 25,
   "id": "2fde520d",
   "metadata": {},
   "outputs": [
    {
     "data": {
      "text/plain": [
       "array([[16,  0,  0],\n",
       "       [ 1, 14,  0],\n",
       "       [ 0,  0,  5]], dtype=int64)"
      ]
     },
     "execution_count": 25,
     "metadata": {},
     "output_type": "execute_result"
    }
   ],
   "source": [
    "cm=confusion_matrix(pred,pred_lda)\n",
    "cm"
   ]
  },
  {
   "cell_type": "code",
   "execution_count": 26,
   "id": "d867c90e",
   "metadata": {},
   "outputs": [],
   "source": [
    "#Bu veride pca güzel sonuç verdi lda ve orjinal veride bir hata yaptı"
   ]
  }
 ],
 "metadata": {
  "kernelspec": {
   "display_name": "Python 3 (ipykernel)",
   "language": "python",
   "name": "python3"
  },
  "language_info": {
   "codemirror_mode": {
    "name": "ipython",
    "version": 3
   },
   "file_extension": ".py",
   "mimetype": "text/x-python",
   "name": "python",
   "nbconvert_exporter": "python",
   "pygments_lexer": "ipython3",
   "version": "3.11.2"
  }
 },
 "nbformat": 4,
 "nbformat_minor": 5
}
