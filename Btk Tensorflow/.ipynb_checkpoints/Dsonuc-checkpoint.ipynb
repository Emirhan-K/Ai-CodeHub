{
 "cells": [
  {
   "cell_type": "code",
   "execution_count": 12,
   "id": "f9a83da0",
   "metadata": {},
   "outputs": [],
   "source": [
    "import numpy as np\n",
    "import pandas as pd\n",
    "import matplotlib\n",
    "from sklearn.model_selection import train_test_split\n",
    "from sklearn.preprocessing import MinMaxScaler\n",
    "import tensorflow as tf\n",
    "from tensorflow.keras.models import Sequential\n",
    "from tensorflow.keras.layers import Dense, Activation, Dropout\n",
    "from tensorflow.keras.callbacks import EarlyStopping\n",
    "from sklearn.metrics import accuracy_score"
   ]
  },
  {
   "cell_type": "code",
   "execution_count": 2,
   "id": "2a0925b2",
   "metadata": {},
   "outputs": [],
   "source": [
    "df= pd.read_excel('Dsonuc.xlsx')"
   ]
  },
  {
   "cell_type": "code",
   "execution_count": 3,
   "id": "706d950e",
   "metadata": {},
   "outputs": [],
   "source": [
    "y=df['S'].values\n",
    "x = df.drop(['S'], axis=1)"
   ]
  },
  {
   "cell_type": "code",
   "execution_count": 4,
   "id": "24d86a70",
   "metadata": {},
   "outputs": [],
   "source": [
    "x_train, x_test, y_train, y_test=train_test_split(x,y,test_size=0.2,random_state=18)"
   ]
  },
  {
   "cell_type": "code",
   "execution_count": 5,
   "id": "1e844fb1",
   "metadata": {},
   "outputs": [],
   "source": [
    "sc=MinMaxScaler()\n",
    "x_train = sc.fit_transform(x_train)\n",
    "x_test = sc.transform(x_test)"
   ]
  },
  {
   "cell_type": "code",
   "execution_count": 6,
   "id": "4c6cf681",
   "metadata": {},
   "outputs": [],
   "source": [
    "model=Sequential()"
   ]
  },
  {
   "cell_type": "code",
   "execution_count": 7,
   "id": "c2b255e6",
   "metadata": {},
   "outputs": [],
   "source": [
    "model.add(Dense(9,activation='relu'))\n",
    "#model.add(Dropout(0.11))\n",
    "model.add(Dense(9,activation='relu'))\n",
    "#model.add(Dropout(0.11))\n",
    "model.add(Dense(9,activation='relu'))\n",
    "#model.add(Dropout(0.11))\n",
    "model.add(Dense(9,activation='relu'))\n",
    "#model.add(Dropout(0.11))\n",
    "\n",
    "model.add(Dense(1,activation='sigmoid'))\n",
    "model.compile(loss=\"binary_crossentropy\",optimizer = \"adam\")"
   ]
  },
  {
   "cell_type": "code",
   "execution_count": 8,
   "id": "b39d9654",
   "metadata": {},
   "outputs": [],
   "source": [
    "es = EarlyStopping(monitor=\"val_loss\",mode=\"min\",verbose=1,patience=25)"
   ]
  },
  {
   "cell_type": "code",
   "execution_count": 9,
   "id": "bbd31d23",
   "metadata": {},
   "outputs": [
    {
     "name": "stdout",
     "output_type": "stream",
     "text": [
      "Epoch 1/100\n",
      "27/27 [==============================] - 2s 17ms/step - loss: 0.6859 - val_loss: 0.6778\n",
      "Epoch 2/100\n",
      "27/27 [==============================] - 0s 4ms/step - loss: 0.6673 - val_loss: 0.6570\n",
      "Epoch 3/100\n",
      "27/27 [==============================] - 0s 4ms/step - loss: 0.6403 - val_loss: 0.6283\n",
      "Epoch 4/100\n",
      "27/27 [==============================] - 0s 4ms/step - loss: 0.6110 - val_loss: 0.6090\n",
      "Epoch 5/100\n",
      "27/27 [==============================] - 0s 4ms/step - loss: 0.5972 - val_loss: 0.6056\n",
      "Epoch 6/100\n",
      "27/27 [==============================] - 0s 4ms/step - loss: 0.5934 - val_loss: 0.6017\n",
      "Epoch 7/100\n",
      "27/27 [==============================] - 0s 4ms/step - loss: 0.5894 - val_loss: 0.5975\n",
      "Epoch 8/100\n",
      "27/27 [==============================] - 0s 4ms/step - loss: 0.5836 - val_loss: 0.5889\n",
      "Epoch 9/100\n",
      "27/27 [==============================] - 0s 4ms/step - loss: 0.5752 - val_loss: 0.5823\n",
      "Epoch 10/100\n",
      "27/27 [==============================] - 0s 4ms/step - loss: 0.5683 - val_loss: 0.5761\n",
      "Epoch 11/100\n",
      "27/27 [==============================] - 0s 4ms/step - loss: 0.5636 - val_loss: 0.5738\n",
      "Epoch 12/100\n",
      "27/27 [==============================] - 0s 5ms/step - loss: 0.5610 - val_loss: 0.5732\n",
      "Epoch 13/100\n",
      "27/27 [==============================] - 0s 4ms/step - loss: 0.5610 - val_loss: 0.5733\n",
      "Epoch 14/100\n",
      "27/27 [==============================] - 0s 4ms/step - loss: 0.5600 - val_loss: 0.5717\n",
      "Epoch 15/100\n",
      "27/27 [==============================] - 0s 4ms/step - loss: 0.5598 - val_loss: 0.5715\n",
      "Epoch 16/100\n",
      "27/27 [==============================] - 0s 4ms/step - loss: 0.5597 - val_loss: 0.5712\n",
      "Epoch 17/100\n",
      "27/27 [==============================] - 0s 4ms/step - loss: 0.5594 - val_loss: 0.5713\n",
      "Epoch 18/100\n",
      "27/27 [==============================] - 0s 4ms/step - loss: 0.5592 - val_loss: 0.5713\n",
      "Epoch 19/100\n",
      "27/27 [==============================] - 0s 4ms/step - loss: 0.5592 - val_loss: 0.5709\n",
      "Epoch 20/100\n",
      "27/27 [==============================] - 0s 4ms/step - loss: 0.5599 - val_loss: 0.5708\n",
      "Epoch 21/100\n",
      "27/27 [==============================] - 0s 4ms/step - loss: 0.5590 - val_loss: 0.5704\n",
      "Epoch 22/100\n",
      "27/27 [==============================] - 0s 4ms/step - loss: 0.5588 - val_loss: 0.5702\n",
      "Epoch 23/100\n",
      "27/27 [==============================] - 0s 4ms/step - loss: 0.5587 - val_loss: 0.5704\n",
      "Epoch 24/100\n",
      "27/27 [==============================] - 0s 4ms/step - loss: 0.5589 - val_loss: 0.5700\n",
      "Epoch 25/100\n",
      "27/27 [==============================] - 0s 4ms/step - loss: 0.5594 - val_loss: 0.5708\n",
      "Epoch 26/100\n",
      "27/27 [==============================] - 0s 4ms/step - loss: 0.5596 - val_loss: 0.5703\n",
      "Epoch 27/100\n",
      "27/27 [==============================] - 0s 4ms/step - loss: 0.5588 - val_loss: 0.5715\n",
      "Epoch 28/100\n",
      "27/27 [==============================] - 0s 5ms/step - loss: 0.5585 - val_loss: 0.5698\n",
      "Epoch 29/100\n",
      "27/27 [==============================] - 0s 5ms/step - loss: 0.5591 - val_loss: 0.5696\n",
      "Epoch 30/100\n",
      "27/27 [==============================] - 0s 4ms/step - loss: 0.5587 - val_loss: 0.5718\n",
      "Epoch 31/100\n",
      "27/27 [==============================] - 0s 4ms/step - loss: 0.5588 - val_loss: 0.5695\n",
      "Epoch 32/100\n",
      "27/27 [==============================] - 0s 4ms/step - loss: 0.5584 - val_loss: 0.5696\n",
      "Epoch 33/100\n",
      "27/27 [==============================] - 0s 5ms/step - loss: 0.5582 - val_loss: 0.5697\n",
      "Epoch 34/100\n",
      "27/27 [==============================] - 0s 4ms/step - loss: 0.5584 - val_loss: 0.5705\n",
      "Epoch 35/100\n",
      "27/27 [==============================] - 0s 4ms/step - loss: 0.5581 - val_loss: 0.5692\n",
      "Epoch 36/100\n",
      "27/27 [==============================] - 0s 4ms/step - loss: 0.5582 - val_loss: 0.5698\n",
      "Epoch 37/100\n",
      "27/27 [==============================] - 0s 4ms/step - loss: 0.5583 - val_loss: 0.5692\n",
      "Epoch 38/100\n",
      "27/27 [==============================] - 0s 5ms/step - loss: 0.5581 - val_loss: 0.5718\n",
      "Epoch 39/100\n",
      "27/27 [==============================] - 0s 5ms/step - loss: 0.5588 - val_loss: 0.5692\n",
      "Epoch 40/100\n",
      "27/27 [==============================] - 0s 4ms/step - loss: 0.5585 - val_loss: 0.5692\n",
      "Epoch 41/100\n",
      "27/27 [==============================] - 0s 4ms/step - loss: 0.5580 - val_loss: 0.5690\n",
      "Epoch 42/100\n",
      "27/27 [==============================] - 0s 6ms/step - loss: 0.5582 - val_loss: 0.5689\n",
      "Epoch 43/100\n",
      "27/27 [==============================] - 0s 6ms/step - loss: 0.5581 - val_loss: 0.5696\n",
      "Epoch 44/100\n",
      "27/27 [==============================] - 0s 5ms/step - loss: 0.5580 - val_loss: 0.5689\n",
      "Epoch 45/100\n",
      "27/27 [==============================] - 0s 5ms/step - loss: 0.5584 - val_loss: 0.5690\n",
      "Epoch 46/100\n",
      "27/27 [==============================] - 0s 5ms/step - loss: 0.5579 - val_loss: 0.5695\n",
      "Epoch 47/100\n",
      "27/27 [==============================] - 0s 5ms/step - loss: 0.5580 - val_loss: 0.5686\n",
      "Epoch 48/100\n",
      "27/27 [==============================] - 0s 5ms/step - loss: 0.5580 - val_loss: 0.5691\n",
      "Epoch 49/100\n",
      "27/27 [==============================] - 0s 5ms/step - loss: 0.5579 - val_loss: 0.5690\n",
      "Epoch 50/100\n",
      "27/27 [==============================] - 0s 6ms/step - loss: 0.5578 - val_loss: 0.5692\n",
      "Epoch 51/100\n",
      "27/27 [==============================] - 0s 6ms/step - loss: 0.5580 - val_loss: 0.5685\n",
      "Epoch 52/100\n",
      "27/27 [==============================] - 0s 5ms/step - loss: 0.5579 - val_loss: 0.5687\n",
      "Epoch 53/100\n",
      "27/27 [==============================] - 0s 5ms/step - loss: 0.5577 - val_loss: 0.5683\n",
      "Epoch 54/100\n",
      "27/27 [==============================] - 0s 4ms/step - loss: 0.5577 - val_loss: 0.5693\n",
      "Epoch 55/100\n",
      "27/27 [==============================] - 0s 4ms/step - loss: 0.5577 - val_loss: 0.5683\n",
      "Epoch 56/100\n",
      "27/27 [==============================] - 0s 4ms/step - loss: 0.5580 - val_loss: 0.5684\n",
      "Epoch 57/100\n",
      "27/27 [==============================] - 0s 4ms/step - loss: 0.5580 - val_loss: 0.5686\n",
      "Epoch 58/100\n",
      "27/27 [==============================] - 0s 4ms/step - loss: 0.5577 - val_loss: 0.5685\n",
      "Epoch 59/100\n",
      "27/27 [==============================] - 0s 4ms/step - loss: 0.5578 - val_loss: 0.5697\n",
      "Epoch 60/100\n",
      "27/27 [==============================] - 0s 4ms/step - loss: 0.5582 - val_loss: 0.5684\n",
      "Epoch 61/100\n",
      "27/27 [==============================] - 0s 5ms/step - loss: 0.5578 - val_loss: 0.5688\n",
      "Epoch 62/100\n",
      "27/27 [==============================] - 0s 4ms/step - loss: 0.5576 - val_loss: 0.5683\n",
      "Epoch 63/100\n",
      "27/27 [==============================] - 0s 4ms/step - loss: 0.5577 - val_loss: 0.5688\n",
      "Epoch 64/100\n",
      "27/27 [==============================] - 0s 4ms/step - loss: 0.5576 - val_loss: 0.5682\n",
      "Epoch 65/100\n",
      "27/27 [==============================] - 0s 5ms/step - loss: 0.5574 - val_loss: 0.5686\n",
      "Epoch 66/100\n",
      "27/27 [==============================] - 0s 4ms/step - loss: 0.5574 - val_loss: 0.5682\n",
      "Epoch 67/100\n",
      "27/27 [==============================] - 0s 4ms/step - loss: 0.5577 - val_loss: 0.5682\n",
      "Epoch 68/100\n",
      "27/27 [==============================] - 0s 5ms/step - loss: 0.5575 - val_loss: 0.5692\n",
      "Epoch 69/100\n",
      "27/27 [==============================] - 0s 4ms/step - loss: 0.5577 - val_loss: 0.5688\n",
      "Epoch 70/100\n",
      "27/27 [==============================] - 0s 4ms/step - loss: 0.5576 - val_loss: 0.5691\n",
      "Epoch 71/100\n",
      "27/27 [==============================] - 0s 4ms/step - loss: 0.5574 - val_loss: 0.5683\n",
      "Epoch 72/100\n",
      "27/27 [==============================] - 0s 4ms/step - loss: 0.5576 - val_loss: 0.5681\n",
      "Epoch 73/100\n",
      "27/27 [==============================] - 0s 4ms/step - loss: 0.5574 - val_loss: 0.5685\n",
      "Epoch 74/100\n",
      "27/27 [==============================] - 0s 4ms/step - loss: 0.5574 - val_loss: 0.5686\n",
      "Epoch 75/100\n",
      "27/27 [==============================] - 0s 5ms/step - loss: 0.5577 - val_loss: 0.5704\n",
      "Epoch 76/100\n",
      "27/27 [==============================] - 0s 5ms/step - loss: 0.5574 - val_loss: 0.5681\n",
      "Epoch 77/100\n",
      "27/27 [==============================] - 0s 4ms/step - loss: 0.5576 - val_loss: 0.5690\n",
      "Epoch 78/100\n",
      "27/27 [==============================] - 0s 4ms/step - loss: 0.5574 - val_loss: 0.5681\n",
      "Epoch 79/100\n",
      "27/27 [==============================] - 0s 4ms/step - loss: 0.5572 - val_loss: 0.5692\n",
      "Epoch 80/100\n",
      "27/27 [==============================] - 0s 4ms/step - loss: 0.5576 - val_loss: 0.5684\n",
      "Epoch 81/100\n",
      "27/27 [==============================] - 0s 4ms/step - loss: 0.5577 - val_loss: 0.5686\n",
      "Epoch 82/100\n",
      "27/27 [==============================] - 0s 4ms/step - loss: 0.5573 - val_loss: 0.5696\n",
      "Epoch 83/100\n"
     ]
    },
    {
     "name": "stdout",
     "output_type": "stream",
     "text": [
      "27/27 [==============================] - 0s 4ms/step - loss: 0.5577 - val_loss: 0.5682\n",
      "Epoch 84/100\n",
      "27/27 [==============================] - 0s 4ms/step - loss: 0.5574 - val_loss: 0.5682\n",
      "Epoch 85/100\n",
      "27/27 [==============================] - 0s 5ms/step - loss: 0.5579 - val_loss: 0.5684\n",
      "Epoch 86/100\n",
      "27/27 [==============================] - 0s 5ms/step - loss: 0.5582 - val_loss: 0.5695\n",
      "Epoch 87/100\n",
      "27/27 [==============================] - 0s 6ms/step - loss: 0.5575 - val_loss: 0.5687\n",
      "Epoch 88/100\n",
      "27/27 [==============================] - 0s 4ms/step - loss: 0.5572 - val_loss: 0.5686\n",
      "Epoch 89/100\n",
      "27/27 [==============================] - 0s 4ms/step - loss: 0.5571 - val_loss: 0.5683\n",
      "Epoch 90/100\n",
      "27/27 [==============================] - 0s 4ms/step - loss: 0.5571 - val_loss: 0.5684\n",
      "Epoch 91/100\n",
      "27/27 [==============================] - 0s 4ms/step - loss: 0.5572 - val_loss: 0.5685\n",
      "Epoch 92/100\n",
      "27/27 [==============================] - 0s 4ms/step - loss: 0.5570 - val_loss: 0.5692\n",
      "Epoch 93/100\n",
      "27/27 [==============================] - 0s 4ms/step - loss: 0.5575 - val_loss: 0.5703\n",
      "Epoch 94/100\n",
      "27/27 [==============================] - 0s 4ms/step - loss: 0.5575 - val_loss: 0.5685\n",
      "Epoch 95/100\n",
      "27/27 [==============================] - 0s 4ms/step - loss: 0.5571 - val_loss: 0.5690\n",
      "Epoch 96/100\n",
      "27/27 [==============================] - 0s 4ms/step - loss: 0.5572 - val_loss: 0.5687\n",
      "Epoch 97/100\n",
      "27/27 [==============================] - 0s 4ms/step - loss: 0.5569 - val_loss: 0.5684\n",
      "Epoch 98/100\n",
      "27/27 [==============================] - 0s 4ms/step - loss: 0.5569 - val_loss: 0.5689\n",
      "Epoch 99/100\n",
      "27/27 [==============================] - 0s 4ms/step - loss: 0.5573 - val_loss: 0.5683\n",
      "Epoch 100/100\n",
      "27/27 [==============================] - 0s 4ms/step - loss: 0.5569 - val_loss: 0.5703\n"
     ]
    },
    {
     "data": {
      "text/plain": [
       "<keras.callbacks.History at 0x163090ec7d0>"
      ]
     },
     "execution_count": 9,
     "metadata": {},
     "output_type": "execute_result"
    }
   ],
   "source": [
    "model.fit(x=x_train, y=y_train, epochs=100,validation_data=(x_test,y_test),verbose=1,batch_size=250,callbacks=[es])"
   ]
  },
  {
   "cell_type": "code",
   "execution_count": 10,
   "id": "0a08d800",
   "metadata": {},
   "outputs": [
    {
     "data": {
      "text/plain": [
       "<Axes: >"
      ]
     },
     "execution_count": 10,
     "metadata": {},
     "output_type": "execute_result"
    },
    {
     "data": {
      "image/png": "[encoded data removed]",
      "text/plain": [
       "<Figure size 640x480 with 1 Axes>"
      ]
     },
     "metadata": {},
     "output_type": "display_data"
    }
   ],
   "source": [
    "sonuc=pd.DataFrame(model.history.history)\n",
    "sonuc.plot()"
   ]
  },
  {
   "cell_type": "code",
   "execution_count": 13,
   "id": "de48ad16",
   "metadata": {},
   "outputs": [
    {
     "name": "stdout",
     "output_type": "stream",
     "text": [
      "52/52 [==============================] - 0s 2ms/step\n",
      "Accuracy: 0.7218863361547763\n"
     ]
    }
   ],
   "source": [
    "tahmin = np.round(model.predict(x_test))\n",
    "acc = accuracy_score(y_test, tahmin)\n",
    "print(\"Accuracy:\", acc)"
   ]
  },
  {
   "cell_type": "code",
   "execution_count": null,
   "id": "7b6242f4",
   "metadata": {},
   "outputs": [],
   "source": []
  }
 ],
 "metadata": {
  "kernelspec": {
   "display_name": "Python 3 (ipykernel)",
   "language": "python",
   "name": "python3"
  },
  "language_info": {
   "codemirror_mode": {
    "name": "ipython",
    "version": 3
   },
   "file_extension": ".py",
   "mimetype": "text/x-python",
   "name": "python",
   "nbconvert_exporter": "python",
   "pygments_lexer": "ipython3",
   "version": "3.11.2"
  }
 },
 "nbformat": 4,
 "nbformat_minor": 5
}
