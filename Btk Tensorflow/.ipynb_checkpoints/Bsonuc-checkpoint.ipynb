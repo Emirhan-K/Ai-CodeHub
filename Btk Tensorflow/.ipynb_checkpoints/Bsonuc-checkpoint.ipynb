{
 "cells": [
  {
   "cell_type": "code",
   "execution_count": 13,
   "id": "d6958ef7",
   "metadata": {},
   "outputs": [],
   "source": [
    "import pandas as pd\n",
    "import numpy as np\n",
    "import matplotlib\n",
    "from sklearn.model_selection import train_test_split\n",
    "from sklearn.preprocessing import MinMaxScaler\n",
    "import tensorflow as tf\n",
    "from tensorflow.keras.models import Sequential\n",
    "from tensorflow.keras.layers import Dense, Activation, Dropout\n",
    "from tensorflow.keras.callbacks import EarlyStopping\n",
    "from sklearn.metrics import accuracy_score"
   ]
  },
  {
   "cell_type": "code",
   "execution_count": 3,
   "id": "f1083b2f",
   "metadata": {},
   "outputs": [],
   "source": [
    "df= pd.read_excel('Bsonuc.xlsx')"
   ]
  },
  {
   "cell_type": "code",
   "execution_count": 4,
   "id": "e3c59b7c",
   "metadata": {},
   "outputs": [],
   "source": [
    "y=df['S'].values\n",
    "x = df.drop(['S'], axis=1)"
   ]
  },
  {
   "cell_type": "code",
   "execution_count": 5,
   "id": "0d47cdcc",
   "metadata": {},
   "outputs": [],
   "source": [
    "x_train, x_test, y_train, y_test=train_test_split(x,y,test_size=0.2,random_state=18)"
   ]
  },
  {
   "cell_type": "code",
   "execution_count": 7,
   "id": "0a45084d",
   "metadata": {},
   "outputs": [],
   "source": [
    "sc=MinMaxScaler()\n",
    "x_train = sc.fit_transform(x_train)\n",
    "x_test = sc.transform(x_test)"
   ]
  },
  {
   "cell_type": "code",
   "execution_count": 8,
   "id": "a09aa6f8",
   "metadata": {},
   "outputs": [],
   "source": [
    "model=Sequential()"
   ]
  },
  {
   "cell_type": "code",
   "execution_count": 9,
   "id": "07bc2983",
   "metadata": {},
   "outputs": [],
   "source": [
    "model.add(Dense(9,activation='relu'))\n",
    "#model.add(Dropout(0.11))\n",
    "model.add(Dense(9,activation='relu'))\n",
    "#model.add(Dropout(0.11))\n",
    "model.add(Dense(9,activation='relu'))\n",
    "#model.add(Dropout(0.11))\n",
    "model.add(Dense(9,activation='relu'))\n",
    "#model.add(Dropout(0.11))\n",
    "\n",
    "model.add(Dense(1,activation='sigmoid'))\n",
    "model.compile(loss=\"binary_crossentropy\",optimizer = \"adam\")"
   ]
  },
  {
   "cell_type": "code",
   "execution_count": 10,
   "id": "c5e31729",
   "metadata": {},
   "outputs": [],
   "source": [
    "es = EarlyStopping(monitor=\"val_loss\",mode=\"min\",verbose=1,patience=25)"
   ]
  },
  {
   "cell_type": "code",
   "execution_count": 11,
   "id": "c6153e81",
   "metadata": {},
   "outputs": [
    {
     "name": "stdout",
     "output_type": "stream",
     "text": [
      "Epoch 1/100\n",
      "27/27 [==============================] - 2s 14ms/step - loss: 0.6734 - val_loss: 0.6484\n",
      "Epoch 2/100\n",
      "27/27 [==============================] - 0s 4ms/step - loss: 0.6251 - val_loss: 0.6019\n",
      "Epoch 3/100\n",
      "27/27 [==============================] - 0s 4ms/step - loss: 0.5988 - val_loss: 0.5940\n",
      "Epoch 4/100\n",
      "27/27 [==============================] - 0s 4ms/step - loss: 0.5954 - val_loss: 0.5922\n",
      "Epoch 5/100\n",
      "27/27 [==============================] - 0s 4ms/step - loss: 0.5936 - val_loss: 0.5913\n",
      "Epoch 6/100\n",
      "27/27 [==============================] - 0s 4ms/step - loss: 0.5922 - val_loss: 0.5904\n",
      "Epoch 7/100\n",
      "27/27 [==============================] - 0s 4ms/step - loss: 0.5913 - val_loss: 0.5898\n",
      "Epoch 8/100\n",
      "27/27 [==============================] - 0s 4ms/step - loss: 0.5907 - val_loss: 0.5895\n",
      "Epoch 9/100\n",
      "27/27 [==============================] - 0s 4ms/step - loss: 0.5898 - val_loss: 0.5891\n",
      "Epoch 10/100\n",
      "27/27 [==============================] - 0s 4ms/step - loss: 0.5893 - val_loss: 0.5889\n",
      "Epoch 11/100\n",
      "27/27 [==============================] - 0s 5ms/step - loss: 0.5889 - val_loss: 0.5888\n",
      "Epoch 12/100\n",
      "27/27 [==============================] - 0s 5ms/step - loss: 0.5885 - val_loss: 0.5887\n",
      "Epoch 13/100\n",
      "27/27 [==============================] - 0s 4ms/step - loss: 0.5881 - val_loss: 0.5886\n",
      "Epoch 14/100\n",
      "27/27 [==============================] - 0s 4ms/step - loss: 0.5879 - val_loss: 0.5885\n",
      "Epoch 15/100\n",
      "27/27 [==============================] - 0s 4ms/step - loss: 0.5880 - val_loss: 0.5885\n",
      "Epoch 16/100\n",
      "27/27 [==============================] - 0s 4ms/step - loss: 0.5876 - val_loss: 0.5885\n",
      "Epoch 17/100\n",
      "27/27 [==============================] - 0s 4ms/step - loss: 0.5876 - val_loss: 0.5884\n",
      "Epoch 18/100\n",
      "27/27 [==============================] - 0s 4ms/step - loss: 0.5876 - val_loss: 0.5885\n",
      "Epoch 19/100\n",
      "27/27 [==============================] - 0s 4ms/step - loss: 0.5874 - val_loss: 0.5883\n",
      "Epoch 20/100\n",
      "27/27 [==============================] - 0s 4ms/step - loss: 0.5872 - val_loss: 0.5883\n",
      "Epoch 21/100\n",
      "27/27 [==============================] - 0s 5ms/step - loss: 0.5872 - val_loss: 0.5884\n",
      "Epoch 22/100\n",
      "27/27 [==============================] - 0s 4ms/step - loss: 0.5871 - val_loss: 0.5882\n",
      "Epoch 23/100\n",
      "27/27 [==============================] - 0s 4ms/step - loss: 0.5872 - val_loss: 0.5883\n",
      "Epoch 24/100\n",
      "27/27 [==============================] - 0s 4ms/step - loss: 0.5870 - val_loss: 0.5881\n",
      "Epoch 25/100\n",
      "27/27 [==============================] - 0s 4ms/step - loss: 0.5872 - val_loss: 0.5884\n",
      "Epoch 26/100\n",
      "27/27 [==============================] - 0s 4ms/step - loss: 0.5870 - val_loss: 0.5882\n",
      "Epoch 27/100\n",
      "27/27 [==============================] - 0s 4ms/step - loss: 0.5871 - val_loss: 0.5882\n",
      "Epoch 28/100\n",
      "27/27 [==============================] - 0s 7ms/step - loss: 0.5871 - val_loss: 0.5882\n",
      "Epoch 29/100\n",
      "27/27 [==============================] - 0s 5ms/step - loss: 0.5868 - val_loss: 0.5881\n",
      "Epoch 30/100\n",
      "27/27 [==============================] - 0s 5ms/step - loss: 0.5869 - val_loss: 0.5882\n",
      "Epoch 31/100\n",
      "27/27 [==============================] - 0s 6ms/step - loss: 0.5869 - val_loss: 0.5883\n",
      "Epoch 32/100\n",
      "27/27 [==============================] - 0s 5ms/step - loss: 0.5868 - val_loss: 0.5881\n",
      "Epoch 33/100\n",
      "27/27 [==============================] - 0s 5ms/step - loss: 0.5870 - val_loss: 0.5882\n",
      "Epoch 34/100\n",
      "27/27 [==============================] - 0s 5ms/step - loss: 0.5869 - val_loss: 0.5883\n",
      "Epoch 35/100\n",
      "27/27 [==============================] - 0s 5ms/step - loss: 0.5868 - val_loss: 0.5882\n",
      "Epoch 36/100\n",
      "27/27 [==============================] - 0s 4ms/step - loss: 0.5869 - val_loss: 0.5882\n",
      "Epoch 37/100\n",
      "27/27 [==============================] - 0s 4ms/step - loss: 0.5868 - val_loss: 0.5880\n",
      "Epoch 38/100\n",
      "27/27 [==============================] - 0s 5ms/step - loss: 0.5868 - val_loss: 0.5881\n",
      "Epoch 39/100\n",
      "27/27 [==============================] - 0s 5ms/step - loss: 0.5867 - val_loss: 0.5881\n",
      "Epoch 40/100\n",
      "27/27 [==============================] - 0s 5ms/step - loss: 0.5867 - val_loss: 0.5881\n",
      "Epoch 41/100\n",
      "27/27 [==============================] - 0s 5ms/step - loss: 0.5867 - val_loss: 0.5881\n",
      "Epoch 42/100\n",
      "27/27 [==============================] - 0s 4ms/step - loss: 0.5867 - val_loss: 0.5881\n",
      "Epoch 43/100\n",
      "27/27 [==============================] - 0s 4ms/step - loss: 0.5866 - val_loss: 0.5882\n",
      "Epoch 44/100\n",
      "27/27 [==============================] - 0s 4ms/step - loss: 0.5866 - val_loss: 0.5881\n",
      "Epoch 45/100\n",
      "27/27 [==============================] - 0s 4ms/step - loss: 0.5868 - val_loss: 0.5881\n",
      "Epoch 46/100\n",
      "27/27 [==============================] - 0s 5ms/step - loss: 0.5868 - val_loss: 0.5882\n",
      "Epoch 47/100\n",
      "27/27 [==============================] - 0s 5ms/step - loss: 0.5867 - val_loss: 0.5885\n",
      "Epoch 48/100\n",
      "27/27 [==============================] - 0s 5ms/step - loss: 0.5868 - val_loss: 0.5883\n",
      "Epoch 49/100\n",
      "27/27 [==============================] - 0s 4ms/step - loss: 0.5865 - val_loss: 0.5880\n",
      "Epoch 50/100\n",
      "27/27 [==============================] - 0s 5ms/step - loss: 0.5869 - val_loss: 0.5883\n",
      "Epoch 51/100\n",
      "27/27 [==============================] - 0s 6ms/step - loss: 0.5868 - val_loss: 0.5880\n",
      "Epoch 52/100\n",
      "27/27 [==============================] - 0s 4ms/step - loss: 0.5865 - val_loss: 0.5881\n",
      "Epoch 53/100\n",
      "27/27 [==============================] - 0s 5ms/step - loss: 0.5866 - val_loss: 0.5879\n",
      "Epoch 54/100\n",
      "27/27 [==============================] - 0s 4ms/step - loss: 0.5866 - val_loss: 0.5881\n",
      "Epoch 55/100\n",
      "27/27 [==============================] - 0s 5ms/step - loss: 0.5865 - val_loss: 0.5880\n",
      "Epoch 56/100\n",
      "27/27 [==============================] - 0s 5ms/step - loss: 0.5867 - val_loss: 0.5881\n",
      "Epoch 57/100\n",
      "27/27 [==============================] - 0s 4ms/step - loss: 0.5866 - val_loss: 0.5882\n",
      "Epoch 58/100\n",
      "27/27 [==============================] - 0s 4ms/step - loss: 0.5864 - val_loss: 0.5879\n",
      "Epoch 59/100\n",
      "27/27 [==============================] - 0s 4ms/step - loss: 0.5865 - val_loss: 0.5879\n",
      "Epoch 60/100\n",
      "27/27 [==============================] - 0s 4ms/step - loss: 0.5864 - val_loss: 0.5880\n",
      "Epoch 61/100\n",
      "27/27 [==============================] - 0s 4ms/step - loss: 0.5865 - val_loss: 0.5880\n",
      "Epoch 62/100\n",
      "27/27 [==============================] - 0s 4ms/step - loss: 0.5865 - val_loss: 0.5880\n",
      "Epoch 63/100\n",
      "27/27 [==============================] - 0s 4ms/step - loss: 0.5863 - val_loss: 0.5879\n",
      "Epoch 64/100\n",
      "27/27 [==============================] - 0s 4ms/step - loss: 0.5864 - val_loss: 0.5879\n",
      "Epoch 65/100\n",
      "27/27 [==============================] - 0s 5ms/step - loss: 0.5863 - val_loss: 0.5879\n",
      "Epoch 66/100\n",
      "27/27 [==============================] - 0s 5ms/step - loss: 0.5865 - val_loss: 0.5883\n",
      "Epoch 67/100\n",
      "27/27 [==============================] - 0s 4ms/step - loss: 0.5863 - val_loss: 0.5879\n",
      "Epoch 68/100\n",
      "27/27 [==============================] - 0s 4ms/step - loss: 0.5864 - val_loss: 0.5881\n",
      "Epoch 69/100\n",
      "27/27 [==============================] - 0s 4ms/step - loss: 0.5865 - val_loss: 0.5880\n",
      "Epoch 70/100\n",
      "27/27 [==============================] - 0s 5ms/step - loss: 0.5863 - val_loss: 0.5881\n",
      "Epoch 71/100\n",
      "27/27 [==============================] - 0s 4ms/step - loss: 0.5864 - val_loss: 0.5880\n",
      "Epoch 72/100\n",
      "27/27 [==============================] - 0s 5ms/step - loss: 0.5862 - val_loss: 0.5881\n",
      "Epoch 73/100\n",
      "27/27 [==============================] - 0s 6ms/step - loss: 0.5862 - val_loss: 0.5879\n",
      "Epoch 74/100\n",
      "27/27 [==============================] - 0s 5ms/step - loss: 0.5863 - val_loss: 0.5880\n",
      "Epoch 75/100\n",
      "27/27 [==============================] - 0s 4ms/step - loss: 0.5867 - val_loss: 0.5880\n",
      "Epoch 76/100\n",
      "27/27 [==============================] - 0s 4ms/step - loss: 0.5862 - val_loss: 0.5880\n",
      "Epoch 77/100\n",
      "27/27 [==============================] - 0s 5ms/step - loss: 0.5864 - val_loss: 0.5881\n",
      "Epoch 78/100\n",
      "27/27 [==============================] - 0s 4ms/step - loss: 0.5863 - val_loss: 0.5880\n",
      "Epoch 79/100\n",
      "27/27 [==============================] - 0s 4ms/step - loss: 0.5862 - val_loss: 0.5879\n",
      "Epoch 80/100\n",
      "27/27 [==============================] - 0s 4ms/step - loss: 0.5862 - val_loss: 0.5880\n",
      "Epoch 81/100\n",
      "27/27 [==============================] - 0s 4ms/step - loss: 0.5862 - val_loss: 0.5880\n",
      "Epoch 82/100\n",
      "27/27 [==============================] - 0s 4ms/step - loss: 0.5861 - val_loss: 0.5879\n",
      "Epoch 83/100\n"
     ]
    },
    {
     "name": "stdout",
     "output_type": "stream",
     "text": [
      "27/27 [==============================] - 0s 4ms/step - loss: 0.5863 - val_loss: 0.5879\n",
      "Epoch 84/100\n",
      "27/27 [==============================] - 0s 4ms/step - loss: 0.5862 - val_loss: 0.5879\n",
      "Epoch 85/100\n",
      "27/27 [==============================] - 0s 5ms/step - loss: 0.5862 - val_loss: 0.5879\n",
      "Epoch 86/100\n",
      "27/27 [==============================] - 0s 5ms/step - loss: 0.5862 - val_loss: 0.5880\n",
      "Epoch 87/100\n",
      "27/27 [==============================] - 0s 4ms/step - loss: 0.5862 - val_loss: 0.5880\n",
      "Epoch 88/100\n",
      "27/27 [==============================] - 0s 4ms/step - loss: 0.5862 - val_loss: 0.5879\n",
      "Epoch 89/100\n",
      "27/27 [==============================] - 0s 4ms/step - loss: 0.5863 - val_loss: 0.5886\n",
      "Epoch 89: early stopping\n"
     ]
    },
    {
     "data": {
      "text/plain": [
       "<keras.callbacks.History at 0x16c92b9f190>"
      ]
     },
     "execution_count": 11,
     "metadata": {},
     "output_type": "execute_result"
    }
   ],
   "source": [
    "model.fit(x=x_train, y=y_train, epochs=100,validation_data=(x_test,y_test),verbose=1,batch_size=250,callbacks=[es])"
   ]
  },
  {
   "cell_type": "code",
   "execution_count": 12,
   "id": "f4253b52",
   "metadata": {},
   "outputs": [
    {
     "data": {
      "text/plain": [
       "<Axes: >"
      ]
     },
     "execution_count": 12,
     "metadata": {},
     "output_type": "execute_result"
    },
    {
     "data": {
      "image/png": "[encoded data removed]",
      "text/plain": [
       "<Figure size 640x480 with 1 Axes>"
      ]
     },
     "metadata": {},
     "output_type": "display_data"
    }
   ],
   "source": [
    "sonuc=pd.DataFrame(model.history.history)\n",
    "sonuc.plot()"
   ]
  },
  {
   "cell_type": "code",
   "execution_count": 14,
   "id": "eec4c255",
   "metadata": {},
   "outputs": [
    {
     "name": "stdout",
     "output_type": "stream",
     "text": [
      "52/52 [==============================] - 0s 2ms/step\n",
      "Accuracy: 0.7218863361547763\n"
     ]
    }
   ],
   "source": [
    "tahmin = np.round(model.predict(x_test))\n",
    "acc = accuracy_score(y_test, tahmin)\n",
    "print(\"Accuracy:\", acc)"
   ]
  },
  {
   "cell_type": "code",
   "execution_count": null,
   "id": "6c9c9c5e",
   "metadata": {},
   "outputs": [],
   "source": []
  }
 ],
 "metadata": {
  "kernelspec": {
   "display_name": "Python 3 (ipykernel)",
   "language": "python",
   "name": "python3"
  },
  "language_info": {
   "codemirror_mode": {
    "name": "ipython",
    "version": 3
   },
   "file_extension": ".py",
   "mimetype": "text/x-python",
   "name": "python",
   "nbconvert_exporter": "python",
   "pygments_lexer": "ipython3",
   "version": "3.11.2"
  }
 },
 "nbformat": 4,
 "nbformat_minor": 5
}
