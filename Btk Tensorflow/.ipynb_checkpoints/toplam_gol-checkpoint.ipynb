{
 "cells": [
  {
   "cell_type": "code",
   "execution_count": 52,
   "id": "a5fe3d69",
   "metadata": {},
   "outputs": [],
   "source": [
    "import pandas as pd\n",
    "from sklearn.model_selection import train_test_split\n",
    "from sklearn.preprocessing import MinMaxScaler\n",
    "from tensorflow.keras.models import Sequential\n",
    "from tensorflow.keras.layers import Dense,Activation, Dropout\n",
    "from tensorflow.keras.callbacks import EarlyStopping\n",
    "import matplotlib\n",
    "from sklearn.metrics import mean_absolute_error,mean_squared_error"
   ]
  },
  {
   "cell_type": "code",
   "execution_count": 53,
   "id": "9b2486da",
   "metadata": {},
   "outputs": [],
   "source": [
    "df=pd.read_excel('top_gol.xlsx')"
   ]
  },
  {
   "cell_type": "code",
   "execution_count": 54,
   "id": "f9b7508b",
   "metadata": {},
   "outputs": [
    {
     "data": {
      "text/html": [
       "<div>\n",
       "<style scoped>\n",
       "    .dataframe tbody tr th:only-of-type {\n",
       "        vertical-align: middle;\n",
       "    }\n",
       "\n",
       "    .dataframe tbody tr th {\n",
       "        vertical-align: top;\n",
       "    }\n",
       "\n",
       "    .dataframe thead th {\n",
       "        text-align: right;\n",
       "    }\n",
       "</style>\n",
       "<table border=\"1\" class=\"dataframe\">\n",
       "  <thead>\n",
       "    <tr style=\"text-align: right;\">\n",
       "      <th></th>\n",
       "      <th>MS1</th>\n",
       "      <th>MS0</th>\n",
       "      <th>MS2</th>\n",
       "      <th>1.5 A</th>\n",
       "      <th>1.5 U</th>\n",
       "      <th>2.5 A</th>\n",
       "      <th>2.5 U</th>\n",
       "      <th>3.5 A</th>\n",
       "      <th>3.5 U</th>\n",
       "      <th>S</th>\n",
       "    </tr>\n",
       "  </thead>\n",
       "  <tbody>\n",
       "    <tr>\n",
       "      <th>count</th>\n",
       "      <td>8679.000000</td>\n",
       "      <td>8679.000000</td>\n",
       "      <td>8679.000000</td>\n",
       "      <td>8679.000000</td>\n",
       "      <td>8679.000000</td>\n",
       "      <td>8679.000000</td>\n",
       "      <td>8679.000000</td>\n",
       "      <td>8679.000000</td>\n",
       "      <td>8679.000000</td>\n",
       "      <td>8679.000000</td>\n",
       "    </tr>\n",
       "    <tr>\n",
       "      <th>mean</th>\n",
       "      <td>2.343991</td>\n",
       "      <td>3.213036</td>\n",
       "      <td>3.366547</td>\n",
       "      <td>2.191264</td>\n",
       "      <td>1.110144</td>\n",
       "      <td>1.583113</td>\n",
       "      <td>1.691852</td>\n",
       "      <td>1.137989</td>\n",
       "      <td>2.125292</td>\n",
       "      <td>2.519645</td>\n",
       "    </tr>\n",
       "    <tr>\n",
       "      <th>std</th>\n",
       "      <td>1.520230</td>\n",
       "      <td>0.749869</td>\n",
       "      <td>2.268872</td>\n",
       "      <td>1.174871</td>\n",
       "      <td>0.133973</td>\n",
       "      <td>0.349680</td>\n",
       "      <td>0.381822</td>\n",
       "      <td>0.172141</td>\n",
       "      <td>1.099334</td>\n",
       "      <td>1.628225</td>\n",
       "    </tr>\n",
       "    <tr>\n",
       "      <th>min</th>\n",
       "      <td>1.000000</td>\n",
       "      <td>1.830000</td>\n",
       "      <td>1.000000</td>\n",
       "      <td>1.000000</td>\n",
       "      <td>1.000000</td>\n",
       "      <td>1.000000</td>\n",
       "      <td>1.000000</td>\n",
       "      <td>1.000000</td>\n",
       "      <td>1.000000</td>\n",
       "      <td>0.000000</td>\n",
       "    </tr>\n",
       "    <tr>\n",
       "      <th>25%</th>\n",
       "      <td>1.570000</td>\n",
       "      <td>2.760000</td>\n",
       "      <td>2.090000</td>\n",
       "      <td>1.000000</td>\n",
       "      <td>1.000000</td>\n",
       "      <td>1.360000</td>\n",
       "      <td>1.440000</td>\n",
       "      <td>1.000000</td>\n",
       "      <td>1.000000</td>\n",
       "      <td>1.000000</td>\n",
       "    </tr>\n",
       "    <tr>\n",
       "      <th>50%</th>\n",
       "      <td>1.970000</td>\n",
       "      <td>3.000000</td>\n",
       "      <td>2.740000</td>\n",
       "      <td>2.160000</td>\n",
       "      <td>1.060000</td>\n",
       "      <td>1.540000</td>\n",
       "      <td>1.680000</td>\n",
       "      <td>1.060000</td>\n",
       "      <td>2.020000</td>\n",
       "      <td>2.000000</td>\n",
       "    </tr>\n",
       "    <tr>\n",
       "      <th>75%</th>\n",
       "      <td>2.560000</td>\n",
       "      <td>3.390000</td>\n",
       "      <td>3.760000</td>\n",
       "      <td>3.040000</td>\n",
       "      <td>1.200000</td>\n",
       "      <td>1.780000</td>\n",
       "      <td>1.940000</td>\n",
       "      <td>1.230000</td>\n",
       "      <td>2.930000</td>\n",
       "      <td>3.000000</td>\n",
       "    </tr>\n",
       "    <tr>\n",
       "      <th>max</th>\n",
       "      <td>23.350000</td>\n",
       "      <td>7.420000</td>\n",
       "      <td>23.350000</td>\n",
       "      <td>7.540000</td>\n",
       "      <td>1.620000</td>\n",
       "      <td>3.620000</td>\n",
       "      <td>3.360000</td>\n",
       "      <td>1.880000</td>\n",
       "      <td>6.350000</td>\n",
       "      <td>11.000000</td>\n",
       "    </tr>\n",
       "  </tbody>\n",
       "</table>\n",
       "</div>"
      ],
      "text/plain": [
       "               MS1          MS0          MS2        1.5 A        1.5 U  \\\n",
       "count  8679.000000  8679.000000  8679.000000  8679.000000  8679.000000   \n",
       "mean      2.343991     3.213036     3.366547     2.191264     1.110144   \n",
       "std       1.520230     0.749869     2.268872     1.174871     0.133973   \n",
       "min       1.000000     1.830000     1.000000     1.000000     1.000000   \n",
       "25%       1.570000     2.760000     2.090000     1.000000     1.000000   \n",
       "50%       1.970000     3.000000     2.740000     2.160000     1.060000   \n",
       "75%       2.560000     3.390000     3.760000     3.040000     1.200000   \n",
       "max      23.350000     7.420000    23.350000     7.540000     1.620000   \n",
       "\n",
       "             2.5 A        2.5 U        3.5 A        3.5 U            S  \n",
       "count  8679.000000  8679.000000  8679.000000  8679.000000  8679.000000  \n",
       "mean      1.583113     1.691852     1.137989     2.125292     2.519645  \n",
       "std       0.349680     0.381822     0.172141     1.099334     1.628225  \n",
       "min       1.000000     1.000000     1.000000     1.000000     0.000000  \n",
       "25%       1.360000     1.440000     1.000000     1.000000     1.000000  \n",
       "50%       1.540000     1.680000     1.060000     2.020000     2.000000  \n",
       "75%       1.780000     1.940000     1.230000     2.930000     3.000000  \n",
       "max       3.620000     3.360000     1.880000     6.350000    11.000000  "
      ]
     },
     "execution_count": 54,
     "metadata": {},
     "output_type": "execute_result"
    }
   ],
   "source": [
    "df.describe()"
   ]
  },
  {
   "cell_type": "code",
   "execution_count": 55,
   "id": "30945869",
   "metadata": {},
   "outputs": [],
   "source": [
    "y=df['S'].values\n",
    "x=df.drop('S',axis=1).values"
   ]
  },
  {
   "cell_type": "code",
   "execution_count": 56,
   "id": "d5a6d102",
   "metadata": {},
   "outputs": [],
   "source": [
    "x_train, x_test, y_train, y_test =train_test_split(x,y,test_size=0.2,random_state=18)"
   ]
  },
  {
   "cell_type": "code",
   "execution_count": 57,
   "id": "d1bd1fc7",
   "metadata": {},
   "outputs": [],
   "source": [
    "sc=MinMaxScaler()\n",
    "x_train=sc.fit_transform(x_train)\n",
    "x_test=sc.transform(x_test)"
   ]
  },
  {
   "cell_type": "code",
   "execution_count": 58,
   "id": "cbb4d034",
   "metadata": {},
   "outputs": [],
   "source": [
    "model=Sequential()"
   ]
  },
  {
   "cell_type": "code",
   "execution_count": 59,
   "id": "93397513",
   "metadata": {},
   "outputs": [],
   "source": [
    "model.add(Dense(9,activation='relu'))\n",
    "model.add(Dense(9,activation='relu'))\n",
    "model.add(Dense(9,activation='relu'))\n",
    "model.add(Dense(9,activation='relu'))\n",
    "\n",
    "model.add(Dense(1))\n",
    "model.compile(optimizer='adam',loss='mse')"
   ]
  },
  {
   "cell_type": "code",
   "execution_count": 60,
   "id": "6090da70",
   "metadata": {},
   "outputs": [],
   "source": [
    "es = EarlyStopping(monitor=\"val_loss\",mode=\"min\",verbose=1,patience=25)"
   ]
  },
  {
   "cell_type": "code",
   "execution_count": 61,
   "id": "266da5df",
   "metadata": {},
   "outputs": [
    {
     "name": "stdout",
     "output_type": "stream",
     "text": [
      "Epoch 1/300\n",
      "28/28 [==============================] - 2s 11ms/step - loss: 8.8040 - val_loss: 8.4051\n",
      "Epoch 2/300\n",
      "28/28 [==============================] - 0s 5ms/step - loss: 7.6565 - val_loss: 7.0135\n",
      "Epoch 3/300\n",
      "28/28 [==============================] - 0s 4ms/step - loss: 6.0943 - val_loss: 5.1754\n",
      "Epoch 4/300\n",
      "28/28 [==============================] - 0s 4ms/step - loss: 4.2571 - val_loss: 3.4423\n",
      "Epoch 5/300\n",
      "28/28 [==============================] - 0s 4ms/step - loss: 3.1661 - val_loss: 3.0014\n",
      "Epoch 6/300\n",
      "28/28 [==============================] - 0s 4ms/step - loss: 2.9725 - val_loss: 2.8807\n",
      "Epoch 7/300\n",
      "28/28 [==============================] - 0s 4ms/step - loss: 2.8532 - val_loss: 2.7689\n",
      "Epoch 8/300\n",
      "28/28 [==============================] - 0s 4ms/step - loss: 2.7498 - val_loss: 2.6846\n",
      "Epoch 9/300\n",
      "28/28 [==============================] - 0s 4ms/step - loss: 2.6753 - val_loss: 2.6223\n",
      "Epoch 10/300\n",
      "28/28 [==============================] - 0s 4ms/step - loss: 2.6180 - val_loss: 2.5737\n",
      "Epoch 11/300\n",
      "28/28 [==============================] - 0s 4ms/step - loss: 2.5774 - val_loss: 2.5458\n",
      "Epoch 12/300\n",
      "28/28 [==============================] - 0s 4ms/step - loss: 2.5477 - val_loss: 2.5165\n",
      "Epoch 13/300\n",
      "28/28 [==============================] - 0s 4ms/step - loss: 2.5270 - val_loss: 2.4982\n",
      "Epoch 14/300\n",
      "28/28 [==============================] - 0s 4ms/step - loss: 2.5133 - val_loss: 2.4934\n",
      "Epoch 15/300\n",
      "28/28 [==============================] - 0s 4ms/step - loss: 2.5020 - val_loss: 2.4801\n",
      "Epoch 16/300\n",
      "28/28 [==============================] - 0s 4ms/step - loss: 2.4984 - val_loss: 2.4798\n",
      "Epoch 17/300\n",
      "28/28 [==============================] - 0s 4ms/step - loss: 2.4954 - val_loss: 2.4805\n",
      "Epoch 18/300\n",
      "28/28 [==============================] - 0s 4ms/step - loss: 2.4957 - val_loss: 2.4774\n",
      "Epoch 19/300\n",
      "28/28 [==============================] - 0s 4ms/step - loss: 2.4928 - val_loss: 2.4796\n",
      "Epoch 20/300\n",
      "28/28 [==============================] - 0s 4ms/step - loss: 2.4941 - val_loss: 2.4769\n",
      "Epoch 21/300\n",
      "28/28 [==============================] - 0s 4ms/step - loss: 2.4925 - val_loss: 2.4846\n",
      "Epoch 22/300\n",
      "28/28 [==============================] - 0s 4ms/step - loss: 2.4943 - val_loss: 2.4806\n",
      "Epoch 23/300\n",
      "28/28 [==============================] - 0s 4ms/step - loss: 2.4937 - val_loss: 2.4784\n",
      "Epoch 24/300\n",
      "28/28 [==============================] - 0s 4ms/step - loss: 2.4923 - val_loss: 2.4785\n",
      "Epoch 25/300\n",
      "28/28 [==============================] - 0s 4ms/step - loss: 2.4918 - val_loss: 2.4808\n",
      "Epoch 26/300\n",
      "28/28 [==============================] - 0s 4ms/step - loss: 2.4918 - val_loss: 2.4758\n",
      "Epoch 27/300\n",
      "28/28 [==============================] - 0s 4ms/step - loss: 2.4916 - val_loss: 2.4832\n",
      "Epoch 28/300\n",
      "28/28 [==============================] - 0s 4ms/step - loss: 2.4920 - val_loss: 2.4779\n",
      "Epoch 29/300\n",
      "28/28 [==============================] - 0s 4ms/step - loss: 2.4917 - val_loss: 2.4770\n",
      "Epoch 30/300\n",
      "28/28 [==============================] - 0s 4ms/step - loss: 2.4915 - val_loss: 2.4775\n",
      "Epoch 31/300\n",
      "28/28 [==============================] - 0s 4ms/step - loss: 2.4900 - val_loss: 2.4756\n",
      "Epoch 32/300\n",
      "28/28 [==============================] - 0s 4ms/step - loss: 2.4907 - val_loss: 2.4750\n",
      "Epoch 33/300\n",
      "28/28 [==============================] - 0s 4ms/step - loss: 2.4906 - val_loss: 2.4756\n",
      "Epoch 34/300\n",
      "28/28 [==============================] - 0s 4ms/step - loss: 2.4901 - val_loss: 2.4812\n",
      "Epoch 35/300\n",
      "28/28 [==============================] - 0s 4ms/step - loss: 2.4888 - val_loss: 2.4757\n",
      "Epoch 36/300\n",
      "28/28 [==============================] - 0s 4ms/step - loss: 2.4897 - val_loss: 2.4757\n",
      "Epoch 37/300\n",
      "28/28 [==============================] - 0s 4ms/step - loss: 2.4890 - val_loss: 2.4769\n",
      "Epoch 38/300\n",
      "28/28 [==============================] - 0s 4ms/step - loss: 2.4890 - val_loss: 2.4755\n",
      "Epoch 39/300\n",
      "28/28 [==============================] - 0s 4ms/step - loss: 2.4890 - val_loss: 2.4753\n",
      "Epoch 40/300\n",
      "28/28 [==============================] - 0s 4ms/step - loss: 2.4883 - val_loss: 2.4771\n",
      "Epoch 41/300\n",
      "28/28 [==============================] - 0s 4ms/step - loss: 2.4893 - val_loss: 2.4770\n",
      "Epoch 42/300\n",
      "28/28 [==============================] - 0s 4ms/step - loss: 2.4891 - val_loss: 2.4758\n",
      "Epoch 43/300\n",
      "28/28 [==============================] - 0s 4ms/step - loss: 2.4885 - val_loss: 2.4779\n",
      "Epoch 44/300\n",
      "28/28 [==============================] - 0s 4ms/step - loss: 2.4886 - val_loss: 2.4761\n",
      "Epoch 45/300\n",
      "28/28 [==============================] - 0s 4ms/step - loss: 2.4887 - val_loss: 2.4764\n",
      "Epoch 46/300\n",
      "28/28 [==============================] - 0s 4ms/step - loss: 2.4884 - val_loss: 2.4767\n",
      "Epoch 47/300\n",
      "28/28 [==============================] - 0s 4ms/step - loss: 2.4878 - val_loss: 2.4767\n",
      "Epoch 48/300\n",
      "28/28 [==============================] - 0s 4ms/step - loss: 2.4886 - val_loss: 2.4757\n",
      "Epoch 49/300\n",
      "28/28 [==============================] - 0s 4ms/step - loss: 2.4879 - val_loss: 2.4782\n",
      "Epoch 50/300\n",
      "28/28 [==============================] - 0s 4ms/step - loss: 2.4880 - val_loss: 2.4761\n",
      "Epoch 51/300\n",
      "28/28 [==============================] - 0s 4ms/step - loss: 2.4868 - val_loss: 2.4764\n",
      "Epoch 52/300\n",
      "28/28 [==============================] - 0s 4ms/step - loss: 2.4897 - val_loss: 2.4810\n",
      "Epoch 53/300\n",
      "28/28 [==============================] - 0s 4ms/step - loss: 2.4891 - val_loss: 2.4765\n",
      "Epoch 54/300\n",
      "28/28 [==============================] - 0s 5ms/step - loss: 2.4872 - val_loss: 2.4802\n",
      "Epoch 55/300\n",
      "28/28 [==============================] - 0s 4ms/step - loss: 2.4878 - val_loss: 2.4764\n",
      "Epoch 56/300\n",
      "28/28 [==============================] - 0s 4ms/step - loss: 2.4869 - val_loss: 2.4796\n",
      "Epoch 57/300\n",
      "28/28 [==============================] - 0s 4ms/step - loss: 2.4921 - val_loss: 2.4795\n",
      "Epoch 57: early stopping\n"
     ]
    },
    {
     "data": {
      "text/plain": [
       "<keras.callbacks.History at 0x20512a1a0d0>"
      ]
     },
     "execution_count": 61,
     "metadata": {},
     "output_type": "execute_result"
    }
   ],
   "source": [
    "model.fit(x=x_train,y=y_train,validation_data=(x_test,y_test),epochs=300,batch_size=250,callbacks=[es],verbose=1)"
   ]
  },
  {
   "cell_type": "code",
   "execution_count": 62,
   "id": "2706992b",
   "metadata": {},
   "outputs": [
    {
     "data": {
      "text/plain": [
       "<Axes: >"
      ]
     },
     "execution_count": 62,
     "metadata": {},
     "output_type": "execute_result"
    },
    {
     "data": {
      "image/png": "[encoded data removed]",
      "text/plain": [
       "<Figure size 640x480 with 1 Axes>"
      ]
     },
     "metadata": {},
     "output_type": "display_data"
    }
   ],
   "source": [
    "sonuc=pd.DataFrame(model.history.history)\n",
    "sonuc.plot()"
   ]
  },
  {
   "cell_type": "code",
   "execution_count": 63,
   "id": "c4274a09",
   "metadata": {},
   "outputs": [
    {
     "name": "stdout",
     "output_type": "stream",
     "text": [
      "55/55 [==============================] - 0s 2ms/step\n"
     ]
    }
   ],
   "source": [
    "tahmin=model.predict(x_test)"
   ]
  },
  {
   "cell_type": "code",
   "execution_count": 64,
   "id": "85313d0b",
   "metadata": {},
   "outputs": [
    {
     "data": {
      "text/plain": [
       "1.2473244562676424"
      ]
     },
     "execution_count": 64,
     "metadata": {},
     "output_type": "execute_result"
    }
   ],
   "source": [
    "mean_absolute_error(tahmin,y_test)"
   ]
  },
  {
   "cell_type": "code",
   "execution_count": 65,
   "id": "8105de4d",
   "metadata": {},
   "outputs": [],
   "source": [
    "model.save('toplam_gol.h5')"
   ]
  },
  {
   "cell_type": "code",
   "execution_count": 66,
   "id": "e8babe0e",
   "metadata": {},
   "outputs": [],
   "source": [
    "#loaded_model=keras.models.load_model('model.h5')"
   ]
  },
  {
   "cell_type": "code",
   "execution_count": null,
   "id": "7f9974cb",
   "metadata": {},
   "outputs": [],
   "source": []
  }
 ],
 "metadata": {
  "kernelspec": {
   "display_name": "Python 3 (ipykernel)",
   "language": "python",
   "name": "python3"
  },
  "language_info": {
   "codemirror_mode": {
    "name": "ipython",
    "version": 3
   },
   "file_extension": ".py",
   "mimetype": "text/x-python",
   "name": "python",
   "nbconvert_exporter": "python",
   "pygments_lexer": "ipython3",
   "version": "3.11.2"
  }
 },
 "nbformat": 4,
 "nbformat_minor": 5
}
