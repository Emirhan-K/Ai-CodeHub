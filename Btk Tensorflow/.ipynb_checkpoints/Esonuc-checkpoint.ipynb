{
 "cells": [
  {
   "cell_type": "code",
   "execution_count": 131,
   "id": "1213e64a",
   "metadata": {},
   "outputs": [],
   "source": [
    "import pandas as pd\n",
    "import matplotlib\n",
    "from sklearn.model_selection import train_test_split\n",
    "from sklearn.preprocessing import MinMaxScaler\n",
    "import tensorflow as tf\n",
    "from tensorflow.keras.models import Sequential\n",
    "from tensorflow.keras.layers import Dense, Activation, Dropout\n",
    "from tensorflow.keras.callbacks import EarlyStopping\n",
    "from sklearn.metrics import accuracy_score"
   ]
  },
  {
   "cell_type": "code",
   "execution_count": 132,
   "id": "210180cb",
   "metadata": {},
   "outputs": [],
   "source": [
    "df= pd.read_excel('Esonuc.xlsx')"
   ]
  },
  {
   "cell_type": "code",
   "execution_count": 133,
   "id": "50b7df2c",
   "metadata": {},
   "outputs": [
    {
     "data": {
      "text/html": [
       "<div>\n",
       "<style scoped>\n",
       "    .dataframe tbody tr th:only-of-type {\n",
       "        vertical-align: middle;\n",
       "    }\n",
       "\n",
       "    .dataframe tbody tr th {\n",
       "        vertical-align: top;\n",
       "    }\n",
       "\n",
       "    .dataframe thead th {\n",
       "        text-align: right;\n",
       "    }\n",
       "</style>\n",
       "<table border=\"1\" class=\"dataframe\">\n",
       "  <thead>\n",
       "    <tr style=\"text-align: right;\">\n",
       "      <th></th>\n",
       "      <th>MS1</th>\n",
       "      <th>MS0</th>\n",
       "      <th>MS2</th>\n",
       "      <th>1.5 A</th>\n",
       "      <th>1.5 U</th>\n",
       "      <th>2.5 A</th>\n",
       "      <th>2.5 U</th>\n",
       "      <th>3.5 A</th>\n",
       "      <th>3.5 U</th>\n",
       "      <th>S</th>\n",
       "    </tr>\n",
       "  </thead>\n",
       "  <tbody>\n",
       "    <tr>\n",
       "      <th>count</th>\n",
       "      <td>8269.000000</td>\n",
       "      <td>8269.000000</td>\n",
       "      <td>8269.000000</td>\n",
       "      <td>8269.000000</td>\n",
       "      <td>8269.000000</td>\n",
       "      <td>8269.000000</td>\n",
       "      <td>8269.000000</td>\n",
       "      <td>8269.000000</td>\n",
       "      <td>8269.000000</td>\n",
       "      <td>8269.000000</td>\n",
       "    </tr>\n",
       "    <tr>\n",
       "      <th>mean</th>\n",
       "      <td>2.170133</td>\n",
       "      <td>3.095564</td>\n",
       "      <td>3.151475</td>\n",
       "      <td>2.160288</td>\n",
       "      <td>1.114852</td>\n",
       "      <td>1.597378</td>\n",
       "      <td>1.705929</td>\n",
       "      <td>1.144212</td>\n",
       "      <td>2.136552</td>\n",
       "      <td>0.426654</td>\n",
       "    </tr>\n",
       "    <tr>\n",
       "      <th>std</th>\n",
       "      <td>0.856511</td>\n",
       "      <td>0.513866</td>\n",
       "      <td>1.535591</td>\n",
       "      <td>1.123441</td>\n",
       "      <td>0.136485</td>\n",
       "      <td>0.533720</td>\n",
       "      <td>0.388125</td>\n",
       "      <td>0.254232</td>\n",
       "      <td>1.118417</td>\n",
       "      <td>0.494621</td>\n",
       "    </tr>\n",
       "    <tr>\n",
       "      <th>min</th>\n",
       "      <td>1.060000</td>\n",
       "      <td>1.830000</td>\n",
       "      <td>1.160000</td>\n",
       "      <td>1.000000</td>\n",
       "      <td>1.000000</td>\n",
       "      <td>1.000000</td>\n",
       "      <td>1.000000</td>\n",
       "      <td>1.000000</td>\n",
       "      <td>1.000000</td>\n",
       "      <td>0.000000</td>\n",
       "    </tr>\n",
       "    <tr>\n",
       "      <th>25%</th>\n",
       "      <td>1.600000</td>\n",
       "      <td>2.750000</td>\n",
       "      <td>2.130000</td>\n",
       "      <td>1.000000</td>\n",
       "      <td>1.000000</td>\n",
       "      <td>1.360000</td>\n",
       "      <td>1.460000</td>\n",
       "      <td>1.000000</td>\n",
       "      <td>1.000000</td>\n",
       "      <td>0.000000</td>\n",
       "    </tr>\n",
       "    <tr>\n",
       "      <th>50%</th>\n",
       "      <td>1.960000</td>\n",
       "      <td>2.970000</td>\n",
       "      <td>2.730000</td>\n",
       "      <td>2.150000</td>\n",
       "      <td>1.060000</td>\n",
       "      <td>1.530000</td>\n",
       "      <td>1.700000</td>\n",
       "      <td>1.060000</td>\n",
       "      <td>2.040000</td>\n",
       "      <td>0.000000</td>\n",
       "    </tr>\n",
       "    <tr>\n",
       "      <th>75%</th>\n",
       "      <td>2.500000</td>\n",
       "      <td>3.300000</td>\n",
       "      <td>3.660000</td>\n",
       "      <td>2.980000</td>\n",
       "      <td>1.200000</td>\n",
       "      <td>1.760000</td>\n",
       "      <td>1.950000</td>\n",
       "      <td>1.220000</td>\n",
       "      <td>2.980000</td>\n",
       "      <td>1.000000</td>\n",
       "    </tr>\n",
       "    <tr>\n",
       "      <th>max</th>\n",
       "      <td>5.920000</td>\n",
       "      <td>5.350000</td>\n",
       "      <td>10.100000</td>\n",
       "      <td>8.360000</td>\n",
       "      <td>1.750000</td>\n",
       "      <td>20.000000</td>\n",
       "      <td>3.660000</td>\n",
       "      <td>7.610000</td>\n",
       "      <td>7.060000</td>\n",
       "      <td>1.000000</td>\n",
       "    </tr>\n",
       "  </tbody>\n",
       "</table>\n",
       "</div>"
      ],
      "text/plain": [
       "               MS1          MS0          MS2        1.5 A        1.5 U  \\\n",
       "count  8269.000000  8269.000000  8269.000000  8269.000000  8269.000000   \n",
       "mean      2.170133     3.095564     3.151475     2.160288     1.114852   \n",
       "std       0.856511     0.513866     1.535591     1.123441     0.136485   \n",
       "min       1.060000     1.830000     1.160000     1.000000     1.000000   \n",
       "25%       1.600000     2.750000     2.130000     1.000000     1.000000   \n",
       "50%       1.960000     2.970000     2.730000     2.150000     1.060000   \n",
       "75%       2.500000     3.300000     3.660000     2.980000     1.200000   \n",
       "max       5.920000     5.350000    10.100000     8.360000     1.750000   \n",
       "\n",
       "             2.5 A        2.5 U        3.5 A        3.5 U            S  \n",
       "count  8269.000000  8269.000000  8269.000000  8269.000000  8269.000000  \n",
       "mean      1.597378     1.705929     1.144212     2.136552     0.426654  \n",
       "std       0.533720     0.388125     0.254232     1.118417     0.494621  \n",
       "min       1.000000     1.000000     1.000000     1.000000     0.000000  \n",
       "25%       1.360000     1.460000     1.000000     1.000000     0.000000  \n",
       "50%       1.530000     1.700000     1.060000     2.040000     0.000000  \n",
       "75%       1.760000     1.950000     1.220000     2.980000     1.000000  \n",
       "max      20.000000     3.660000     7.610000     7.060000     1.000000  "
      ]
     },
     "execution_count": 133,
     "metadata": {},
     "output_type": "execute_result"
    }
   ],
   "source": [
    "df.describe()"
   ]
  },
  {
   "cell_type": "code",
   "execution_count": 134,
   "id": "5eb65e2c",
   "metadata": {},
   "outputs": [],
   "source": [
    "y=df['S'].values\n",
    "x = df.drop(['S'], axis=1)"
   ]
  },
  {
   "cell_type": "code",
   "execution_count": 135,
   "id": "d185e2af",
   "metadata": {},
   "outputs": [],
   "source": [
    "x_train, x_test, y_train, y_test=train_test_split(x,y,test_size=0.2,random_state=18)"
   ]
  },
  {
   "cell_type": "code",
   "execution_count": 136,
   "id": "618ab65d",
   "metadata": {},
   "outputs": [],
   "source": [
    "sc=MinMaxScaler()\n",
    "x_train = sc.fit_transform(x_train)\n",
    "x_test = sc.transform(x_test)"
   ]
  },
  {
   "cell_type": "code",
   "execution_count": 137,
   "id": "03f1eb15",
   "metadata": {},
   "outputs": [],
   "source": [
    "model=Sequential()"
   ]
  },
  {
   "cell_type": "code",
   "execution_count": 138,
   "id": "fac95258",
   "metadata": {},
   "outputs": [],
   "source": [
    "model.add(Dense(9,activation='relu'))\n",
    "#model.add(Dropout(0.11))\n",
    "model.add(Dense(9,activation='relu'))\n",
    "#model.add(Dropout(0.11))\n",
    "model.add(Dense(9,activation='relu'))\n",
    "#model.add(Dropout(0.11))\n",
    "model.add(Dense(9,activation='relu'))\n",
    "#model.add(Dropout(0.11))\n",
    "\n",
    "model.add(Dense(1,activation='sigmoid'))\n",
    "model.compile(loss=\"binary_crossentropy\",optimizer = \"adam\")"
   ]
  },
  {
   "cell_type": "code",
   "execution_count": 139,
   "id": "725432d8",
   "metadata": {},
   "outputs": [],
   "source": [
    "es = EarlyStopping(monitor=\"val_loss\",mode=\"min\",verbose=1,patience=25)"
   ]
  },
  {
   "cell_type": "code",
   "execution_count": 140,
   "id": "f605ea3e",
   "metadata": {},
   "outputs": [
    {
     "name": "stdout",
     "output_type": "stream",
     "text": [
      "Epoch 1/100\n",
      "27/27 [==============================] - 2s 12ms/step - loss: 0.6926 - val_loss: 0.6888\n",
      "Epoch 2/100\n",
      "27/27 [==============================] - 0s 5ms/step - loss: 0.6871 - val_loss: 0.6829\n",
      "Epoch 3/100\n",
      "27/27 [==============================] - 0s 4ms/step - loss: 0.6801 - val_loss: 0.6729\n",
      "Epoch 4/100\n",
      "27/27 [==============================] - 0s 4ms/step - loss: 0.6684 - val_loss: 0.6587\n",
      "Epoch 5/100\n",
      "27/27 [==============================] - 0s 4ms/step - loss: 0.6551 - val_loss: 0.6460\n",
      "Epoch 6/100\n",
      "27/27 [==============================] - 0s 5ms/step - loss: 0.6441 - val_loss: 0.6353\n",
      "Epoch 7/100\n",
      "27/27 [==============================] - 0s 4ms/step - loss: 0.6371 - val_loss: 0.6351\n",
      "Epoch 8/100\n",
      "27/27 [==============================] - 0s 5ms/step - loss: 0.6352 - val_loss: 0.6290\n",
      "Epoch 9/100\n",
      "27/27 [==============================] - 0s 4ms/step - loss: 0.6335 - val_loss: 0.6279\n",
      "Epoch 10/100\n",
      "27/27 [==============================] - 0s 4ms/step - loss: 0.6338 - val_loss: 0.6283\n",
      "Epoch 11/100\n",
      "27/27 [==============================] - 0s 4ms/step - loss: 0.6329 - val_loss: 0.6272\n",
      "Epoch 12/100\n",
      "27/27 [==============================] - 0s 4ms/step - loss: 0.6332 - val_loss: 0.6300\n",
      "Epoch 13/100\n",
      "27/27 [==============================] - 0s 4ms/step - loss: 0.6328 - val_loss: 0.6266\n",
      "Epoch 14/100\n",
      "27/27 [==============================] - 0s 4ms/step - loss: 0.6322 - val_loss: 0.6265\n",
      "Epoch 15/100\n",
      "27/27 [==============================] - 0s 4ms/step - loss: 0.6325 - val_loss: 0.6263\n",
      "Epoch 16/100\n",
      "27/27 [==============================] - 0s 4ms/step - loss: 0.6320 - val_loss: 0.6266\n",
      "Epoch 17/100\n",
      "27/27 [==============================] - 0s 5ms/step - loss: 0.6320 - val_loss: 0.6266\n",
      "Epoch 18/100\n",
      "27/27 [==============================] - 0s 4ms/step - loss: 0.6318 - val_loss: 0.6261\n",
      "Epoch 19/100\n",
      "27/27 [==============================] - 0s 4ms/step - loss: 0.6318 - val_loss: 0.6267\n",
      "Epoch 20/100\n",
      "27/27 [==============================] - 0s 4ms/step - loss: 0.6316 - val_loss: 0.6264\n",
      "Epoch 21/100\n",
      "27/27 [==============================] - 0s 4ms/step - loss: 0.6318 - val_loss: 0.6259\n",
      "Epoch 22/100\n",
      "27/27 [==============================] - 0s 4ms/step - loss: 0.6314 - val_loss: 0.6256\n",
      "Epoch 23/100\n",
      "27/27 [==============================] - 0s 5ms/step - loss: 0.6316 - val_loss: 0.6259\n",
      "Epoch 24/100\n",
      "27/27 [==============================] - 0s 4ms/step - loss: 0.6313 - val_loss: 0.6255\n",
      "Epoch 25/100\n",
      "27/27 [==============================] - 0s 5ms/step - loss: 0.6315 - val_loss: 0.6262\n",
      "Epoch 26/100\n",
      "27/27 [==============================] - 0s 4ms/step - loss: 0.6314 - val_loss: 0.6265\n",
      "Epoch 27/100\n",
      "27/27 [==============================] - 0s 4ms/step - loss: 0.6310 - val_loss: 0.6257\n",
      "Epoch 28/100\n",
      "27/27 [==============================] - 0s 4ms/step - loss: 0.6311 - val_loss: 0.6257\n",
      "Epoch 29/100\n",
      "27/27 [==============================] - 0s 4ms/step - loss: 0.6309 - val_loss: 0.6254\n",
      "Epoch 30/100\n",
      "27/27 [==============================] - 0s 4ms/step - loss: 0.6308 - val_loss: 0.6254\n",
      "Epoch 31/100\n",
      "27/27 [==============================] - 0s 4ms/step - loss: 0.6315 - val_loss: 0.6256\n",
      "Epoch 32/100\n",
      "27/27 [==============================] - 0s 4ms/step - loss: 0.6315 - val_loss: 0.6260\n",
      "Epoch 33/100\n",
      "27/27 [==============================] - 0s 4ms/step - loss: 0.6317 - val_loss: 0.6260\n",
      "Epoch 34/100\n",
      "27/27 [==============================] - 0s 5ms/step - loss: 0.6309 - val_loss: 0.6260\n",
      "Epoch 35/100\n",
      "27/27 [==============================] - 0s 4ms/step - loss: 0.6307 - val_loss: 0.6258\n",
      "Epoch 36/100\n",
      "27/27 [==============================] - 0s 5ms/step - loss: 0.6306 - val_loss: 0.6255\n",
      "Epoch 37/100\n",
      "27/27 [==============================] - 0s 4ms/step - loss: 0.6307 - val_loss: 0.6259\n",
      "Epoch 38/100\n",
      "27/27 [==============================] - 0s 4ms/step - loss: 0.6309 - val_loss: 0.6264\n",
      "Epoch 39/100\n",
      "27/27 [==============================] - 0s 4ms/step - loss: 0.6307 - val_loss: 0.6258\n",
      "Epoch 40/100\n",
      "27/27 [==============================] - 0s 4ms/step - loss: 0.6304 - val_loss: 0.6263\n",
      "Epoch 41/100\n",
      "27/27 [==============================] - 0s 4ms/step - loss: 0.6306 - val_loss: 0.6256\n",
      "Epoch 42/100\n",
      "27/27 [==============================] - 0s 4ms/step - loss: 0.6305 - val_loss: 0.6262\n",
      "Epoch 43/100\n",
      "27/27 [==============================] - 0s 4ms/step - loss: 0.6306 - val_loss: 0.6261\n",
      "Epoch 44/100\n",
      "27/27 [==============================] - 0s 4ms/step - loss: 0.6304 - val_loss: 0.6255\n",
      "Epoch 45/100\n",
      "27/27 [==============================] - 0s 4ms/step - loss: 0.6308 - val_loss: 0.6259\n",
      "Epoch 46/100\n",
      "27/27 [==============================] - 0s 4ms/step - loss: 0.6303 - val_loss: 0.6259\n",
      "Epoch 47/100\n",
      "27/27 [==============================] - 0s 4ms/step - loss: 0.6304 - val_loss: 0.6263\n",
      "Epoch 48/100\n",
      "27/27 [==============================] - 0s 4ms/step - loss: 0.6303 - val_loss: 0.6257\n",
      "Epoch 49/100\n",
      "27/27 [==============================] - 0s 4ms/step - loss: 0.6304 - val_loss: 0.6258\n",
      "Epoch 50/100\n",
      "27/27 [==============================] - 0s 4ms/step - loss: 0.6303 - val_loss: 0.6292\n",
      "Epoch 51/100\n",
      "27/27 [==============================] - 0s 4ms/step - loss: 0.6312 - val_loss: 0.6257\n",
      "Epoch 52/100\n",
      "27/27 [==============================] - 0s 4ms/step - loss: 0.6304 - val_loss: 0.6257\n",
      "Epoch 53/100\n",
      "27/27 [==============================] - 0s 4ms/step - loss: 0.6301 - val_loss: 0.6263\n",
      "Epoch 54/100\n",
      "27/27 [==============================] - 0s 4ms/step - loss: 0.6310 - val_loss: 0.6278\n",
      "Epoch 55/100\n",
      "27/27 [==============================] - 0s 5ms/step - loss: 0.6312 - val_loss: 0.6272\n",
      "Epoch 55: early stopping\n"
     ]
    },
    {
     "data": {
      "text/plain": [
       "<keras.callbacks.History at 0x274dc851250>"
      ]
     },
     "execution_count": 140,
     "metadata": {},
     "output_type": "execute_result"
    }
   ],
   "source": [
    "model.fit(x=x_train, y=y_train, epochs=100,validation_data=(x_test,y_test),verbose=1,batch_size=250,callbacks=[es])"
   ]
  },
  {
   "cell_type": "code",
   "execution_count": 141,
   "id": "5e395fd3",
   "metadata": {},
   "outputs": [
    {
     "data": {
      "text/plain": [
       "<Axes: >"
      ]
     },
     "execution_count": 141,
     "metadata": {},
     "output_type": "execute_result"
    },
    {
     "data": {
      "image/png": "[encoded data removed]",
      "text/plain": [
       "<Figure size 640x480 with 1 Axes>"
      ]
     },
     "metadata": {},
     "output_type": "display_data"
    }
   ],
   "source": [
    "sonuc=pd.DataFrame(model.history.history)\n",
    "sonuc.plot()"
   ]
  },
  {
   "cell_type": "code",
   "execution_count": 142,
   "id": "d1e29045",
   "metadata": {},
   "outputs": [],
   "source": [
    "import numpy as np"
   ]
  },
  {
   "cell_type": "code",
   "execution_count": 143,
   "id": "3236ea60",
   "metadata": {},
   "outputs": [
    {
     "name": "stdout",
     "output_type": "stream",
     "text": [
      "52/52 [==============================] - 0s 2ms/step\n",
      "Accuracy: 0.6469165659008465\n"
     ]
    }
   ],
   "source": [
    "\n",
    "tahmin = np.round(model.predict(x_test))\n",
    "acc = accuracy_score(y_test, tahmin)\n",
    "print(\"Accuracy:\", acc)"
   ]
  },
  {
   "cell_type": "code",
   "execution_count": null,
   "id": "76a0faa9",
   "metadata": {},
   "outputs": [],
   "source": []
  },
  {
   "cell_type": "code",
   "execution_count": null,
   "id": "cbad056e",
   "metadata": {},
   "outputs": [],
   "source": []
  }
 ],
 "metadata": {
  "kernelspec": {
   "display_name": "Python 3 (ipykernel)",
   "language": "python",
   "name": "python3"
  },
  "language_info": {
   "codemirror_mode": {
    "name": "ipython",
    "version": 3
   },
   "file_extension": ".py",
   "mimetype": "text/x-python",
   "name": "python",
   "nbconvert_exporter": "python",
   "pygments_lexer": "ipython3",
   "version": "3.11.2"
  }
 },
 "nbformat": 4,
 "nbformat_minor": 5
}
